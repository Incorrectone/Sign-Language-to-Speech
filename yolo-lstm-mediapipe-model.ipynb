{
 "cells": [
  {
   "cell_type": "code",
   "execution_count": null,
   "metadata": {
    "_cell_guid": "47993910-bd60-41ac-84c4-444e29967a71",
    "_uuid": "cb0101ca-7f97-438b-8d63-e9fb539d10bc",
    "collapsed": false,
    "execution": {
     "execution_failed": "2025-06-29T07:42:39.020Z",
     "iopub.execute_input": "2025-06-29T07:40:41.311775Z",
     "iopub.status.busy": "2025-06-29T07:40:41.311451Z"
    },
    "jupyter": {
     "outputs_hidden": false
    },
    "trusted": true
   },
   "outputs": [],
   "source": [
    "!pip install ultralytics\n",
    "from ultralytics import YOLO"
   ]
  },
  {
   "cell_type": "code",
   "execution_count": 1,
   "metadata": {
    "_cell_guid": "96acfd25-6312-45b6-8bfe-c68b9a8a2eb5",
    "_uuid": "cb866167-3049-4d37-802a-b5c0e54841ce",
    "collapsed": false,
    "execution": {
     "iopub.execute_input": "2025-07-03T10:44:57.915176Z",
     "iopub.status.busy": "2025-07-03T10:44:57.914707Z",
     "iopub.status.idle": "2025-07-03T10:45:07.164583Z",
     "shell.execute_reply": "2025-07-03T10:45:07.163861Z",
     "shell.execute_reply.started": "2025-07-03T10:44:57.915134Z"
    },
    "jupyter": {
     "outputs_hidden": false
    },
    "trusted": true
   },
   "outputs": [],
   "source": [
    "import os\n",
    "import cv2\n",
    "import random\n",
    "import numpy as np\n",
    "import pandas as pd\n",
    "from sklearn.preprocessing import LabelEncoder\n",
    "from sklearn.model_selection import train_test_split\n",
    "from collections import Counter\n",
    "import matplotlib.pyplot as plt\n",
    "\n",
    "import torch\n",
    "import torch.nn as nn\n",
    "import torch.optim as optim\n",
    "from torch.utils.data import Dataset, DataLoader"
   ]
  },
  {
   "cell_type": "code",
   "execution_count": 2,
   "metadata": {
    "_cell_guid": "96aedb0d-3aaf-4047-b1a9-f9585af2c618",
    "_uuid": "ba3201a1-8b29-4e88-a384-5f68cf6c46ae",
    "collapsed": false,
    "execution": {
     "iopub.execute_input": "2025-07-03T10:45:12.876146Z",
     "iopub.status.busy": "2025-07-03T10:45:12.875279Z",
     "iopub.status.idle": "2025-07-03T10:45:12.881830Z",
     "shell.execute_reply": "2025-07-03T10:45:12.881269Z",
     "shell.execute_reply.started": "2025-07-03T10:45:12.876122Z"
    },
    "jupyter": {
     "outputs_hidden": false
    },
    "trusted": true
   },
   "outputs": [
    {
     "name": "stdout",
     "output_type": "stream",
     "text": [
      "Kaggle Data Path: /kaggle/input/include/Adjectives_1of8\n",
      "Working Directory: /kaggle/working/\n"
     ]
    }
   ],
   "source": [
    "# Initiliaze working directories\n",
    "\n",
    "# Change this to input folder\n",
    "# Will look for all .MOV files, with code in the next section\n",
    "KAGGLE_DATA_PATH = '/kaggle/input/include/Adjectives_1of8'\n",
    "\n",
    "WORKING_DIR = '/kaggle/working/'\n",
    "LANDMARKS_DIR = os.path.join(WORKING_DIR, 'extracted_landmarks')\n",
    "\n",
    "# Use if cropping with Yolo\n",
    "CROPPED_FRAMES_DIR = os.path.join(WORKING_DIR, 'yolo_cropped_frames')\n",
    "\n",
    "os.makedirs(CROPPED_FRAMES_DIR, exist_ok=True)\n",
    "os.makedirs(LANDMARKS_DIR, exist_ok=True)\n",
    "\n",
    "# Create if not existant\n",
    "print(f\"Kaggle Data Path: {KAGGLE_DATA_PATH}\")\n",
    "print(f\"Working Directory: {WORKING_DIR}\")\n",
    "\n",
    "model_name = \"CNN_LSTM_v1\""
   ]
  },
  {
   "cell_type": "code",
   "execution_count": 3,
   "metadata": {
    "_cell_guid": "ada32ce2-f2a5-49ec-862f-fbdd7c83e42f",
    "_uuid": "75159394-3746-4cb7-8b09-123b036ab367",
    "execution": {
     "iopub.execute_input": "2025-07-03T10:14:20.742134Z",
     "iopub.status.busy": "2025-07-03T10:14:20.741720Z",
     "iopub.status.idle": "2025-07-03T10:14:20.993569Z",
     "shell.execute_reply": "2025-07-03T10:14:20.992361Z",
     "shell.execute_reply.started": "2025-07-03T10:14:20.742103Z"
    },
    "trusted": true
   },
   "outputs": [],
   "source": [
    "# Load all files relating to the input\n",
    "\n",
    "file_paths = []\n",
    "\n",
    "# This loop currently works for the INCLUDE Dataset\n",
    "# Change this to make it fit your own dataset\n",
    "for root, dirs, files in os.walk(KAGGLE_DATA_PATH):\n",
    "    for file in files:\n",
    "        if file.endswith('.MOV'):\n",
    "            file_path = os.path.join(root, file)\n",
    "            path_components = file_path.split('/')    \n",
    "            for component in reversed(path_components):\n",
    "                if '. ' in component:\n",
    "                 word = component.split('. ')[1]\n",
    "            file_paths.append([word.lower(), file_path])"
   ]
  },
  {
   "cell_type": "code",
   "execution_count": 4,
   "metadata": {
    "_cell_guid": "a6c3e95e-5a07-46be-b974-5fbf79353b56",
    "_uuid": "8092082e-3c5b-4fb3-8b24-dc8a4cb7b21f",
    "execution": {
     "iopub.execute_input": "2025-07-03T10:14:20.996250Z",
     "iopub.status.busy": "2025-07-03T10:14:20.995859Z",
     "iopub.status.idle": "2025-07-03T10:14:21.045745Z",
     "shell.execute_reply": "2025-07-03T10:14:21.044696Z",
     "shell.execute_reply.started": "2025-07-03T10:14:20.996216Z"
    },
    "trusted": true
   },
   "outputs": [],
   "source": [
    "# Additional/Private Dataset\n",
    "\n",
    "KAGGLE_DATA_PATH_PRIVATE = \"/kaggle/input/include-private/Adjectives_1of8\"\n",
    "\n",
    "for root, dirs, files in os.walk(KAGGLE_DATA_PATH_PRIVATE):\n",
    "    for file in files:\n",
    "        if file.endswith('.mp4'):\n",
    "            file_path = os.path.join(root, file)\n",
    "            path_components = file_path.split('/')    \n",
    "            for component in reversed(path_components):\n",
    "                if '. ' in component:\n",
    "                 word = component.split('. ')[1]\n",
    "            file_paths.append([word.lower(), file_path])"
   ]
  },
  {
   "cell_type": "code",
   "execution_count": 5,
   "metadata": {
    "_cell_guid": "7cc9a66d-f798-4ddd-81e5-fab23b79c283",
    "_uuid": "382606b7-4706-4f98-b302-d7a9b1e91384",
    "execution": {
     "iopub.execute_input": "2025-07-03T10:14:21.047679Z",
     "iopub.status.busy": "2025-07-03T10:14:21.047262Z",
     "iopub.status.idle": "2025-07-03T10:14:21.057498Z",
     "shell.execute_reply": "2025-07-03T10:14:21.056251Z",
     "shell.execute_reply.started": "2025-07-03T10:14:21.047647Z"
    },
    "trusted": true
   },
   "outputs": [
    {
     "data": {
      "text/plain": [
       "(144, 2)"
      ]
     },
     "execution_count": 5,
     "metadata": {},
     "output_type": "execute_result"
    }
   ],
   "source": [
    "# Creates an array in the form of ['word', 'file path']\n",
    "file_paths = np.array(file_paths)\n",
    "file_paths.shape"
   ]
  },
  {
   "cell_type": "code",
   "execution_count": 8,
   "metadata": {
    "_cell_guid": "4ae834f5-8c9f-44ec-bfba-d23b87cd03f5",
    "_uuid": "e89479e4-03c8-4fd1-b3a4-75b889ca8a4d",
    "trusted": true
   },
   "outputs": [],
   "source": [
    "# Function to extract landmarks using MediaPipe Holistic Model\n",
    "!pip install mediapipe\n",
    "import mediapipe as mp\n",
    "\n",
    "mp_holistic = mp.solutions.holistic\n",
    "\n",
    "def extract_landmarks(frame, holistic_model, frame_number=None):\n",
    "    rgb_frame = cv2.cvtColor(frame, cv2.COLOR_BGR2RGB)\n",
    "    results = holistic_model.process(rgb_frame)\n",
    "\n",
    "    POSE_LANDMARKS = 33\n",
    "    FACE_LANDMARKS = 468\n",
    "    HAND_LANDMARKS = 21\n",
    "    TOTAL_LANDMARKS = POSE_LANDMARKS + FACE_LANDMARKS + HAND_LANDMARKS + HAND_LANDMARKS\n",
    "\n",
    "    frame_landmarks = np.zeros((TOTAL_LANDMARKS, 4))\n",
    "\n",
    "    def get_landmarks_data(landmarks_obj, num_landmarks, include_visibility=False):\n",
    "        if landmarks_obj:\n",
    "            coords = np.array([[lmk.x, lmk.y, lmk.z] for lmk in landmarks_obj.landmark])\n",
    "            if include_visibility:\n",
    "                visibility = np.array([[lmk.visibility] for lmk in landmarks_obj.landmark])\n",
    "                return np.hstack([coords, visibility])\n",
    "            else:\n",
    "                return np.hstack([coords, np.zeros((coords.shape[0], 1))])\n",
    "        return np.zeros((num_landmarks, 4))\n",
    "\n",
    "    start_idx = 0\n",
    "    \n",
    "    pose_data = get_landmarks_data(results.pose_landmarks, POSE_LANDMARKS, include_visibility=True)\n",
    "    frame_landmarks[start_idx : start_idx + POSE_LANDMARKS] = pose_data\n",
    "    start_idx += POSE_LANDMARKS\n",
    "\n",
    "    face_data = get_landmarks_data(results.face_landmarks, FACE_LANDMARKS)\n",
    "    frame_landmarks[start_idx : start_idx + FACE_LANDMARKS] = face_data\n",
    "    start_idx += FACE_LANDMARKS\n",
    "\n",
    "    left_hand_data = get_landmarks_data(results.left_hand_landmarks, HAND_LANDMARKS)\n",
    "    frame_landmarks[start_idx : start_idx + HAND_LANDMARKS] = left_hand_data\n",
    "    start_idx += HAND_LANDMARKS\n",
    "\n",
    "    right_hand_data = get_landmarks_data(results.right_hand_landmarks, HAND_LANDMARKS)\n",
    "    frame_landmarks[start_idx : start_idx + HAND_LANDMARKS] = right_hand_data\n",
    "\n",
    "    return frame_landmarks\n",
    "\n",
    "# Function to loop through frames and create single np.array of features in shape of (number of videos, frames processed, features per frame)\n",
    "# Saves the landmarks, and labels to a file in the working directory \n",
    "def process_videos(file_paths_array, sequence_length=60):\n",
    "    holistic_model = mp_holistic.Holistic(\n",
    "        static_image_mode=False,\n",
    "        model_complexity=2,\n",
    "        min_detection_confidence=0.5,\n",
    "        min_tracking_confidence=0.5\n",
    "    )\n",
    "\n",
    "    video_landmarks = []\n",
    "    labels = []\n",
    "\n",
    "    for i, (word, file_path) in enumerate(file_paths_array):\n",
    "        print(f\"Processing video {i+1}/{len(file_paths_array)}: {file_path} (Label: {word})\")\n",
    "        \n",
    "        cap = cv2.VideoCapture(file_path)\n",
    "        if not cap.isOpened():\n",
    "            print(f\"Error: Could not open video file {file_path}. Skipping.\")\n",
    "            continue\n",
    "\n",
    "        current_video_landmarks = []\n",
    "        frame_count = 0\n",
    "        while True:\n",
    "            ret, frame = cap.read()\n",
    "            if not ret:\n",
    "                break\n",
    "            \n",
    "            landmarks_frame = extract_landmarks(frame, holistic_model, frame_count)\n",
    "            current_video_landmarks.append(landmarks_frame)\n",
    "            frame_count += 1\n",
    "        cap.release()\n",
    "\n",
    "        if not current_video_landmarks:\n",
    "            print(f\"Warning: No landmarks extracted from {file_path}. Skipping.\")\n",
    "            continue\n",
    "\n",
    "        video_sequence_array = np.array(current_video_landmarks)\n",
    "\n",
    "        if video_sequence_array.shape[0] < sequence_length:\n",
    "            padding_needed = sequence_length - video_sequence_array.shape[0]\n",
    "            padded_sequence = np.pad(video_sequence_array, ((0, padding_needed), (0, 0), (0, 0)), mode='constant', constant_values=0)\n",
    "            video_landmarks.append(padded_sequence)\n",
    "        else:\n",
    "            truncated_sequence = video_sequence_array[:sequence_length, :, :]\n",
    "            video_landmarks.append(truncated_sequence)\n",
    "        \n",
    "        labels.append(word)\n",
    "\n",
    "    holistic_model.close()\n",
    "\n",
    "    if not video_landmarks:\n",
    "        print(\"Error: Landmark extraction failed for all videos. Exiting.\")\n",
    "        return\n",
    "\n",
    "    X_data = np.array(video_landmarks)\n",
    "    y_data = np.array(labels)\n",
    "\n",
    "    np.save(os.path.join(LANDMARKS_DIR, 'sequences.npy'), X_data)\n",
    "    np.save(os.path.join(LANDMARKS_DIR, 'labels.npy'), y_data)\n",
    "\n",
    "    print(f\"\\nSuccessfully processed and saved {X_data.shape[0]} sequences.\")\n",
    "    print(f\"Shape of landmark sequences (X): {X_data.shape}\")\n",
    "    print(f\"Shape of labels (y): {y_data.shape}\")\n",
    "\n",
    "    holistic_model.close()"
   ]
  },
  {
   "cell_type": "code",
   "execution_count": 9,
   "metadata": {
    "_cell_guid": "293049c8-a07d-4d2d-8480-adc2982126af",
    "_uuid": "ecc0e7db-70e3-402d-b93f-12b88e32769a",
    "collapsed": true,
    "execution": {
     "iopub.execute_input": "2025-07-03T10:15:52.842413Z",
     "iopub.status.busy": "2025-07-03T10:15:52.842065Z",
     "iopub.status.idle": "2025-07-03T10:36:33.343900Z",
     "shell.execute_reply": "2025-07-03T10:36:33.342713Z",
     "shell.execute_reply.started": "2025-07-03T10:15:52.842389Z"
    },
    "jupyter": {
     "outputs_hidden": true
    },
    "trusted": true
   },
   "outputs": [
    {
     "name": "stdout",
     "output_type": "stream",
     "text": [
      "Downloading model to /usr/local/lib/python3.11/dist-packages/mediapipe/modules/pose_landmark/pose_landmark_heavy.tflite\n",
      "Processing video 1/144: /kaggle/input/include/Adjectives_1of8/Adjectives/1. loud/MVI_9290.MOV (Label: loud)\n"
     ]
    },
    {
     "name": "stderr",
     "output_type": "stream",
     "text": [
      "INFO: Created TensorFlow Lite XNNPACK delegate for CPU.\n",
      "WARNING: All log messages before absl::InitializeLog() is called are written to STDERR\n",
      "W0000 00:00:1751537754.496785     111 inference_feedback_manager.cc:114] Feedback manager requires a model with a single signature inference. Disabling support for feedback tensors.\n",
      "W0000 00:00:1751537754.755186     111 inference_feedback_manager.cc:114] Feedback manager requires a model with a single signature inference. Disabling support for feedback tensors.\n",
      "W0000 00:00:1751537754.762247     112 inference_feedback_manager.cc:114] Feedback manager requires a model with a single signature inference. Disabling support for feedback tensors.\n",
      "W0000 00:00:1751537754.765129     111 inference_feedback_manager.cc:114] Feedback manager requires a model with a single signature inference. Disabling support for feedback tensors.\n",
      "W0000 00:00:1751537754.765153     110 inference_feedback_manager.cc:114] Feedback manager requires a model with a single signature inference. Disabling support for feedback tensors.\n",
      "W0000 00:00:1751537754.812058     112 inference_feedback_manager.cc:114] Feedback manager requires a model with a single signature inference. Disabling support for feedback tensors.\n",
      "W0000 00:00:1751537754.816442     111 inference_feedback_manager.cc:114] Feedback manager requires a model with a single signature inference. Disabling support for feedback tensors.\n",
      "W0000 00:00:1751537754.833073     110 inference_feedback_manager.cc:114] Feedback manager requires a model with a single signature inference. Disabling support for feedback tensors.\n",
      "W0000 00:00:1751537754.906859     113 landmark_projection_calculator.cc:186] Using NORM_RECT without IMAGE_DIMENSIONS is only supported for the square ROI. Provide IMAGE_DIMENSIONS or use PROJECTION_MATRIX.\n"
     ]
    },
    {
     "name": "stdout",
     "output_type": "stream",
     "text": [
      "Processing video 2/144: /kaggle/input/include/Adjectives_1of8/Adjectives/1. loud/MVI_5258.MOV (Label: loud)\n",
      "Processing video 3/144: /kaggle/input/include/Adjectives_1of8/Adjectives/1. loud/MVI_9536.MOV (Label: loud)\n",
      "Processing video 4/144: /kaggle/input/include/Adjectives_1of8/Adjectives/1. loud/MVI_5257.MOV (Label: loud)\n",
      "Processing video 5/144: /kaggle/input/include/Adjectives_1of8/Adjectives/1. loud/MVI_5177.MOV (Label: loud)\n",
      "Processing video 6/144: /kaggle/input/include/Adjectives_1of8/Adjectives/1. loud/MVI_5259.MOV (Label: loud)\n",
      "Processing video 7/144: /kaggle/input/include/Adjectives_1of8/Adjectives/1. loud/MVI_9535.MOV (Label: loud)\n",
      "Processing video 8/144: /kaggle/input/include/Adjectives_1of8/Adjectives/1. loud/MVI_9449.MOV (Label: loud)\n",
      "Processing video 9/144: /kaggle/input/include/Adjectives_1of8/Adjectives/1. loud/MVI_9450.MOV (Label: loud)\n",
      "Processing video 10/144: /kaggle/input/include/Adjectives_1of8/Adjectives/1. loud/MVI_5179.MOV (Label: loud)\n",
      "Processing video 11/144: /kaggle/input/include/Adjectives_1of8/Adjectives/1. loud/MVI_9369.MOV (Label: loud)\n",
      "Processing video 12/144: /kaggle/input/include/Adjectives_1of8/Adjectives/1. loud/MVI_5335.MOV (Label: loud)\n",
      "Processing video 13/144: /kaggle/input/include/Adjectives_1of8/Adjectives/1. loud/MVI_9448.MOV (Label: loud)\n",
      "Processing video 14/144: /kaggle/input/include/Adjectives_1of8/Adjectives/1. loud/MVI_5178.MOV (Label: loud)\n",
      "Processing video 15/144: /kaggle/input/include/Adjectives_1of8/Adjectives/1. loud/MVI_9368.MOV (Label: loud)\n",
      "Processing video 16/144: /kaggle/input/include/Adjectives_1of8/Adjectives/1. loud/MVI_9291.MOV (Label: loud)\n",
      "Processing video 17/144: /kaggle/input/include/Adjectives_1of8/Adjectives/1. loud/MVI_5337.MOV (Label: loud)\n",
      "Processing video 18/144: /kaggle/input/include/Adjectives_1of8/Adjectives/1. loud/MVI_5336.MOV (Label: loud)\n",
      "Processing video 19/144: /kaggle/input/include/Adjectives_1of8/Adjectives/1. loud/MVI_9289.MOV (Label: loud)\n",
      "Processing video 20/144: /kaggle/input/include/Adjectives_1of8/Adjectives/1. loud/MVI_9370.MOV (Label: loud)\n",
      "Processing video 21/144: /kaggle/input/include/Adjectives_1of8/Adjectives/1. loud/MVI_9534.MOV (Label: loud)\n",
      "Processing video 22/144: /kaggle/input/include/Adjectives_1of8/Adjectives/3. happy/MVI_9541.MOV (Label: happy)\n",
      "Processing video 23/144: /kaggle/input/include/Adjectives_1of8/Adjectives/3. happy/MVI_9456.MOV (Label: happy)\n",
      "Processing video 24/144: /kaggle/input/include/Adjectives_1of8/Adjectives/3. happy/MVI_5342.MOV (Label: happy)\n",
      "Processing video 25/144: /kaggle/input/include/Adjectives_1of8/Adjectives/3. happy/MVI_5184.MOV (Label: happy)\n",
      "Processing video 26/144: /kaggle/input/include/Adjectives_1of8/Adjectives/3. happy/MVI_9454.MOV (Label: happy)\n",
      "Processing video 27/144: /kaggle/input/include/Adjectives_1of8/Adjectives/3. happy/MVI_5185.MOV (Label: happy)\n",
      "Processing video 28/144: /kaggle/input/include/Adjectives_1of8/Adjectives/3. happy/MVI_9542.MOV (Label: happy)\n",
      "Processing video 29/144: /kaggle/input/include/Adjectives_1of8/Adjectives/3. happy/MVI_5265.MOV (Label: happy)\n",
      "Processing video 30/144: /kaggle/input/include/Adjectives_1of8/Adjectives/3. happy/MVI_9455.MOV (Label: happy)\n",
      "Processing video 31/144: /kaggle/input/include/Adjectives_1of8/Adjectives/3. happy/MVI_9297.MOV (Label: happy)\n",
      "Processing video 32/144: /kaggle/input/include/Adjectives_1of8/Adjectives/3. happy/MVI_9375.MOV (Label: happy)\n",
      "Processing video 33/144: /kaggle/input/include/Adjectives_1of8/Adjectives/3. happy/MVI_9296.MOV (Label: happy)\n",
      "Processing video 34/144: /kaggle/input/include/Adjectives_1of8/Adjectives/3. happy/MVI_9374.MOV (Label: happy)\n",
      "Processing video 35/144: /kaggle/input/include/Adjectives_1of8/Adjectives/3. happy/MVI_9295.MOV (Label: happy)\n",
      "Processing video 36/144: /kaggle/input/include/Adjectives_1of8/Adjectives/3. happy/MVI_9376.MOV (Label: happy)\n",
      "Processing video 37/144: /kaggle/input/include/Adjectives_1of8/Adjectives/3. happy/MVI_5263.MOV (Label: happy)\n",
      "Processing video 38/144: /kaggle/input/include/Adjectives_1of8/Adjectives/3. happy/MVI_5183.MOV (Label: happy)\n",
      "Processing video 39/144: /kaggle/input/include/Adjectives_1of8/Adjectives/3. happy/MVI_9540.MOV (Label: happy)\n",
      "Processing video 40/144: /kaggle/input/include/Adjectives_1of8/Adjectives/3. happy/MVI_5341.MOV (Label: happy)\n",
      "Processing video 41/144: /kaggle/input/include/Adjectives_1of8/Adjectives/3. happy/MVI_5343.MOV (Label: happy)\n",
      "Processing video 42/144: /kaggle/input/include/Adjectives_1of8/Adjectives/3. happy/MVI_5264.MOV (Label: happy)\n",
      "Processing video 43/144: /kaggle/input/include/Adjectives_1of8/Adjectives/2. quiet/MVI_9292.MOV (Label: quiet)\n",
      "Processing video 44/144: /kaggle/input/include/Adjectives_1of8/Adjectives/2. quiet/MVI_5181.MOV (Label: quiet)\n",
      "Processing video 45/144: /kaggle/input/include/Adjectives_1of8/Adjectives/2. quiet/MVI_9539.MOV (Label: quiet)\n",
      "Processing video 46/144: /kaggle/input/include/Adjectives_1of8/Adjectives/2. quiet/MVI_9371.MOV (Label: quiet)\n",
      "Processing video 47/144: /kaggle/input/include/Adjectives_1of8/Adjectives/2. quiet/MVI_5260.MOV (Label: quiet)\n",
      "Processing video 48/144: /kaggle/input/include/Adjectives_1of8/Adjectives/2. quiet/MVI_9538.MOV (Label: quiet)\n",
      "Processing video 49/144: /kaggle/input/include/Adjectives_1of8/Adjectives/2. quiet/MVI_9537.MOV (Label: quiet)\n",
      "Processing video 50/144: /kaggle/input/include/Adjectives_1of8/Adjectives/2. quiet/MVI_5182.MOV (Label: quiet)\n",
      "Processing video 51/144: /kaggle/input/include/Adjectives_1of8/Adjectives/2. quiet/MVI_5340.MOV (Label: quiet)\n",
      "Processing video 52/144: /kaggle/input/include/Adjectives_1of8/Adjectives/2. quiet/MVI_9452.MOV (Label: quiet)\n",
      "Processing video 53/144: /kaggle/input/include/Adjectives_1of8/Adjectives/2. quiet/MVI_5339.MOV (Label: quiet)\n",
      "Processing video 54/144: /kaggle/input/include/Adjectives_1of8/Adjectives/2. quiet/MVI_5261.MOV (Label: quiet)\n",
      "Processing video 55/144: /kaggle/input/include/Adjectives_1of8/Adjectives/2. quiet/MVI_9451.MOV (Label: quiet)\n",
      "Processing video 56/144: /kaggle/input/include/Adjectives_1of8/Adjectives/2. quiet/MVI_9293.MOV (Label: quiet)\n",
      "Processing video 57/144: /kaggle/input/include/Adjectives_1of8/Adjectives/2. quiet/MVI_9294.MOV (Label: quiet)\n",
      "Processing video 58/144: /kaggle/input/include/Adjectives_1of8/Adjectives/2. quiet/MVI_9373.MOV (Label: quiet)\n",
      "Processing video 59/144: /kaggle/input/include/Adjectives_1of8/Adjectives/2. quiet/MVI_5338.MOV (Label: quiet)\n",
      "Processing video 60/144: /kaggle/input/include/Adjectives_1of8/Adjectives/2. quiet/MVI_5180.MOV (Label: quiet)\n",
      "Processing video 61/144: /kaggle/input/include/Adjectives_1of8/Adjectives/2. quiet/MVI_5262.MOV (Label: quiet)\n",
      "Processing video 62/144: /kaggle/input/include/Adjectives_1of8/Adjectives/2. quiet/MVI_9372.MOV (Label: quiet)\n",
      "Processing video 63/144: /kaggle/input/include/Adjectives_1of8/Adjectives/2. quiet/MVI_9453.MOV (Label: quiet)\n",
      "Processing video 64/144: /kaggle/input/include/Adjectives_1of8/Adjectives/7. Deaf/MVI_9848.MOV (Label: deaf)\n",
      "Processing video 65/144: /kaggle/input/include/Adjectives_1of8/Adjectives/7. Deaf/MVI_9851.MOV (Label: deaf)\n",
      "Processing video 66/144: /kaggle/input/include/Adjectives_1of8/Adjectives/7. Deaf/MVI_9583.MOV (Label: deaf)\n",
      "Processing video 67/144: /kaggle/input/include/Adjectives_1of8/Adjectives/7. Deaf/MVI_9849.MOV (Label: deaf)\n",
      "Processing video 68/144: /kaggle/input/include/Adjectives_1of8/Adjectives/7. Deaf/MVI_9582.MOV (Label: deaf)\n",
      "Processing video 69/144: /kaggle/input/include/Adjectives_1of8/Adjectives/7. Deaf/MVI_9581.MOV (Label: deaf)\n",
      "Processing video 70/144: /kaggle/input/include/Adjectives_1of8/Adjectives/7. Deaf/MVI_9580.MOV (Label: deaf)\n",
      "Processing video 71/144: /kaggle/input/include/Adjectives_1of8/Adjectives/7. Deaf/MVI_9850.MOV (Label: deaf)\n",
      "Processing video 72/144: /kaggle/input/include/Adjectives_1of8/Adjectives/8. Blind/MVI_9586.MOV (Label: blind)\n",
      "Processing video 73/144: /kaggle/input/include/Adjectives_1of8/Adjectives/8. Blind/MVI_9585.MOV (Label: blind)\n",
      "Processing video 74/144: /kaggle/input/include/Adjectives_1of8/Adjectives/8. Blind/MVI_9854.MOV (Label: blind)\n",
      "Processing video 75/144: /kaggle/input/include/Adjectives_1of8/Adjectives/8. Blind/MVI_9587.MOV (Label: blind)\n",
      "Processing video 76/144: /kaggle/input/include/Adjectives_1of8/Adjectives/8. Blind/MVI_9584.MOV (Label: blind)\n",
      "Processing video 77/144: /kaggle/input/include/Adjectives_1of8/Adjectives/8. Blind/MVI_9855.MOV (Label: blind)\n",
      "Processing video 78/144: /kaggle/input/include/Adjectives_1of8/Adjectives/8. Blind/MVI_9852.MOV (Label: blind)\n",
      "Processing video 79/144: /kaggle/input/include/Adjectives_1of8/Adjectives/8. Blind/MVI_9853.MOV (Label: blind)\n",
      "Processing video 80/144: /kaggle/input/include/Adjectives_1of8/Adjectives/5. Beautiful/MVI_9570.MOV (Label: beautiful)\n",
      "Processing video 81/144: /kaggle/input/include/Adjectives_1of8/Adjectives/5. Beautiful/MVI_9723.MOV (Label: beautiful)\n",
      "Processing video 82/144: /kaggle/input/include/Adjectives_1of8/Adjectives/5. Beautiful/MVI_9569.MOV (Label: beautiful)\n",
      "Processing video 83/144: /kaggle/input/include/Adjectives_1of8/Adjectives/5. Beautiful/MVI_9724.MOV (Label: beautiful)\n",
      "Processing video 84/144: /kaggle/input/include/Adjectives_1of8/Adjectives/5. Beautiful/MVI_9571.MOV (Label: beautiful)\n",
      "Processing video 85/144: /kaggle/input/include/Adjectives_1of8/Adjectives/5. Beautiful/MVI_9726.MOV (Label: beautiful)\n",
      "Processing video 86/144: /kaggle/input/include/Adjectives_1of8/Adjectives/5. Beautiful/MVI_9572.MOV (Label: beautiful)\n",
      "Processing video 87/144: /kaggle/input/include/Adjectives_1of8/Adjectives/5. Beautiful/MVI_9725.MOV (Label: beautiful)\n",
      "Processing video 88/144: /kaggle/input/include/Adjectives_1of8/Adjectives/5. Beautiful/Extra/MVI_9573.MOV (Label: beautiful)\n",
      "Processing video 89/144: /kaggle/input/include/Adjectives_1of8/Adjectives/4. sad/MVI_9565.MOV (Label: sad)\n",
      "Processing video 90/144: /kaggle/input/include/Adjectives_1of8/Adjectives/4. sad/MVI_9568.MOV (Label: sad)\n",
      "Processing video 91/144: /kaggle/input/include/Adjectives_1of8/Adjectives/4. sad/MVI_9720.MOV (Label: sad)\n",
      "Processing video 92/144: /kaggle/input/include/Adjectives_1of8/Adjectives/4. sad/MVI_9719.MOV (Label: sad)\n",
      "Processing video 93/144: /kaggle/input/include/Adjectives_1of8/Adjectives/4. sad/MVI_9722.MOV (Label: sad)\n",
      "Processing video 94/144: /kaggle/input/include/Adjectives_1of8/Adjectives/4. sad/MVI_9566.MOV (Label: sad)\n",
      "Processing video 95/144: /kaggle/input/include/Adjectives_1of8/Adjectives/4. sad/MVI_9721.MOV (Label: sad)\n",
      "Processing video 96/144: /kaggle/input/include/Adjectives_1of8/Adjectives/4. sad/MVI_9567.MOV (Label: sad)\n",
      "Processing video 97/144: /kaggle/input/include/Adjectives_1of8/Adjectives/6. Ugly/MVI_9579.MOV (Label: ugly)\n",
      "Processing video 98/144: /kaggle/input/include/Adjectives_1of8/Adjectives/6. Ugly/MVI_9578.MOV (Label: ugly)\n",
      "Processing video 99/144: /kaggle/input/include/Adjectives_1of8/Adjectives/6. Ugly/MVI_9845.MOV (Label: ugly)\n",
      "Processing video 100/144: /kaggle/input/include/Adjectives_1of8/Adjectives/6. Ugly/MVI_9846.MOV (Label: ugly)\n",
      "Processing video 101/144: /kaggle/input/include/Adjectives_1of8/Adjectives/6. Ugly/MVI_9844.MOV (Label: ugly)\n",
      "Processing video 102/144: /kaggle/input/include/Adjectives_1of8/Adjectives/6. Ugly/MVI_9576.MOV (Label: ugly)\n",
      "Processing video 103/144: /kaggle/input/include/Adjectives_1of8/Adjectives/6. Ugly/MVI_9847.MOV (Label: ugly)\n",
      "Processing video 104/144: /kaggle/input/include/Adjectives_1of8/Adjectives/6. Ugly/MVI_9577.MOV (Label: ugly)\n",
      "Processing video 105/144: /kaggle/input/include-private/Adjectives_1of8/Adjectives/1. loud/sign-Loud 2.mp4 (Label: loud)\n",
      "Processing video 106/144: /kaggle/input/include-private/Adjectives_1of8/Adjectives/1. loud/sign-Loud 1.mp4 (Label: loud)\n",
      "Processing video 107/144: /kaggle/input/include-private/Adjectives_1of8/Adjectives/1. loud/sign-Loud 3.mp4 (Label: loud)\n",
      "Processing video 108/144: /kaggle/input/include-private/Adjectives_1of8/Adjectives/2. quiet/sign-Quiet 1.mp4 (Label: quiet)\n",
      "Processing video 109/144: /kaggle/input/include-private/Adjectives_1of8/Adjectives/2. quiet/sign-Quiet 3.mp4 (Label: quiet)\n",
      "Processing video 110/144: /kaggle/input/include-private/Adjectives_1of8/Adjectives/2. quiet/sign-Quiet 2.mp4 (Label: quiet)\n",
      "Processing video 111/144: /kaggle/input/include-private/Adjectives_1of8/Adjectives/7. Deaf/sign-Deaf 6.mp4 (Label: deaf)\n",
      "Processing video 112/144: /kaggle/input/include-private/Adjectives_1of8/Adjectives/7. Deaf/sign-Deaf 3.mp4 (Label: deaf)\n",
      "Processing video 113/144: /kaggle/input/include-private/Adjectives_1of8/Adjectives/7. Deaf/sign-Deaf 4.mp4 (Label: deaf)\n",
      "Processing video 114/144: /kaggle/input/include-private/Adjectives_1of8/Adjectives/7. Deaf/sign-Deaf 5.mp4 (Label: deaf)\n",
      "Processing video 115/144: /kaggle/input/include-private/Adjectives_1of8/Adjectives/7. Deaf/sign-Deaf 7.mp4 (Label: deaf)\n",
      "Processing video 116/144: /kaggle/input/include-private/Adjectives_1of8/Adjectives/7. Deaf/sign-Deaf 2.mp4 (Label: deaf)\n",
      "Processing video 117/144: /kaggle/input/include-private/Adjectives_1of8/Adjectives/7. Deaf/sign-Deaf 1.mp4 (Label: deaf)\n",
      "Processing video 118/144: /kaggle/input/include-private/Adjectives_1of8/Adjectives/8. Blind/sign-Blind 2-0.mp4 (Label: blind)\n",
      "Processing video 119/144: /kaggle/input/include-private/Adjectives_1of8/Adjectives/8. Blind/sign-Blind 5.mp4 (Label: blind)\n",
      "Processing video 120/144: /kaggle/input/include-private/Adjectives_1of8/Adjectives/8. Blind/sign-Blind 6.mp4 (Label: blind)\n",
      "Processing video 121/144: /kaggle/input/include-private/Adjectives_1of8/Adjectives/8. Blind/sign-Blind 3.mp4 (Label: blind)\n",
      "Processing video 122/144: /kaggle/input/include-private/Adjectives_1of8/Adjectives/8. Blind/sign-Blind 7.mp4 (Label: blind)\n",
      "Processing video 123/144: /kaggle/input/include-private/Adjectives_1of8/Adjectives/8. Blind/sign-Blind 2.mp4 (Label: blind)\n",
      "Processing video 124/144: /kaggle/input/include-private/Adjectives_1of8/Adjectives/8. Blind/sign-Blind 3-0.mp4 (Label: blind)\n",
      "Processing video 125/144: /kaggle/input/include-private/Adjectives_1of8/Adjectives/8. Blind/sign-Blind 4.mp4 (Label: blind)\n",
      "Processing video 126/144: /kaggle/input/include-private/Adjectives_1of8/Adjectives/8. Blind/sign-Blind 1.mp4 (Label: blind)\n",
      "Processing video 127/144: /kaggle/input/include-private/Adjectives_1of8/Adjectives/8. Blind/sign-Blind 5-0.mp4 (Label: blind)\n",
      "Processing video 128/144: /kaggle/input/include-private/Adjectives_1of8/Adjectives/8. Blind/sign-Blind 1-0.mp4 (Label: blind)\n",
      "Processing video 129/144: /kaggle/input/include-private/Adjectives_1of8/Adjectives/8. Blind/sign-Blind 4-0.mp4 (Label: blind)\n",
      "Processing video 130/144: /kaggle/input/include-private/Adjectives_1of8/Adjectives/5. Beautiful/sign-Beautiful 1.mp4 (Label: beautiful)\n",
      "Processing video 131/144: /kaggle/input/include-private/Adjectives_1of8/Adjectives/5. Beautiful/sign-Beautiful 4.mp4 (Label: beautiful)\n",
      "Processing video 132/144: /kaggle/input/include-private/Adjectives_1of8/Adjectives/5. Beautiful/sign-Beautiful 2.mp4 (Label: beautiful)\n",
      "Processing video 133/144: /kaggle/input/include-private/Adjectives_1of8/Adjectives/5. Beautiful/sign-Beautiful 3.mp4 (Label: beautiful)\n",
      "Processing video 134/144: /kaggle/input/include-private/Adjectives_1of8/Adjectives/5. Beautiful/sign-Beautiful 5.mp4 (Label: beautiful)\n",
      "Processing video 135/144: /kaggle/input/include-private/Adjectives_1of8/Adjectives/4. sad/sign-Sad 5.mp4 (Label: sad)\n",
      "Processing video 136/144: /kaggle/input/include-private/Adjectives_1of8/Adjectives/4. sad/sign-Sad 2.mp4 (Label: sad)\n",
      "Processing video 137/144: /kaggle/input/include-private/Adjectives_1of8/Adjectives/4. sad/sign-Sad 3.mp4 (Label: sad)\n",
      "Processing video 138/144: /kaggle/input/include-private/Adjectives_1of8/Adjectives/4. sad/sign-Sad 4.mp4 (Label: sad)\n",
      "Processing video 139/144: /kaggle/input/include-private/Adjectives_1of8/Adjectives/4. sad/sign-Sad 1.mp4 (Label: sad)\n",
      "Processing video 140/144: /kaggle/input/include-private/Adjectives_1of8/Adjectives/6. Ugly/sign-Ugly 2.mp4 (Label: ugly)\n",
      "Processing video 141/144: /kaggle/input/include-private/Adjectives_1of8/Adjectives/6. Ugly/sign-Ugly 1.mp4 (Label: ugly)\n",
      "Processing video 142/144: /kaggle/input/include-private/Adjectives_1of8/Adjectives/6. Ugly/sign-Ugly 3.mp4 (Label: ugly)\n",
      "Processing video 143/144: /kaggle/input/include-private/Adjectives_1of8/Adjectives/6. Ugly/sign-Ugly 4.mp4 (Label: ugly)\n",
      "Processing video 144/144: /kaggle/input/include-private/Adjectives_1of8/Adjectives/6. Ugly/sign-Ugly 5.mp4 (Label: ugly)\n",
      "\n",
      "Successfully processed and saved 144 sequences.\n",
      "Shape of landmark sequences (X): (144, 60, 543, 4)\n",
      "Shape of labels (y): (144,)\n"
     ]
    },
    {
     "ename": "ValueError",
     "evalue": "Closing SolutionBase._graph which is already None",
     "output_type": "error",
     "traceback": [
      "\u001b[0;31m---------------------------------------------------------------------------\u001b[0m",
      "\u001b[0;31mValueError\u001b[0m                                Traceback (most recent call last)",
      "\u001b[0;32m/tmp/ipykernel_35/1355362330.py\u001b[0m in \u001b[0;36m<cell line: 0>\u001b[0;34m()\u001b[0m\n\u001b[0;32m----> 1\u001b[0;31m \u001b[0mprocess_videos\u001b[0m\u001b[0;34m(\u001b[0m\u001b[0mfile_paths\u001b[0m\u001b[0;34m)\u001b[0m\u001b[0;34m\u001b[0m\u001b[0;34m\u001b[0m\u001b[0m\n\u001b[0m",
      "\u001b[0;32m/tmp/ipykernel_35/1910479249.py\u001b[0m in \u001b[0;36mprocess_videos\u001b[0;34m(file_paths_array, sequence_length)\u001b[0m\n\u001b[1;32m     62\u001b[0m     \u001b[0mprint\u001b[0m\u001b[0;34m(\u001b[0m\u001b[0;34mf\"Shape of labels (y): {y_data.shape}\"\u001b[0m\u001b[0;34m)\u001b[0m\u001b[0;34m\u001b[0m\u001b[0;34m\u001b[0m\u001b[0m\n\u001b[1;32m     63\u001b[0m \u001b[0;34m\u001b[0m\u001b[0m\n\u001b[0;32m---> 64\u001b[0;31m     \u001b[0mholistic_model\u001b[0m\u001b[0;34m.\u001b[0m\u001b[0mclose\u001b[0m\u001b[0;34m(\u001b[0m\u001b[0;34m)\u001b[0m\u001b[0;34m\u001b[0m\u001b[0;34m\u001b[0m\u001b[0m\n\u001b[0m",
      "\u001b[0;32m/usr/local/lib/python3.11/dist-packages/mediapipe/python/solution_base.py\u001b[0m in \u001b[0;36mclose\u001b[0;34m(self)\u001b[0m\n\u001b[1;32m    359\u001b[0m     \u001b[0;34m\"\"\"Closes all the input sources and the graph.\"\"\"\u001b[0m\u001b[0;34m\u001b[0m\u001b[0;34m\u001b[0m\u001b[0m\n\u001b[1;32m    360\u001b[0m     \u001b[0;32mif\u001b[0m \u001b[0mself\u001b[0m\u001b[0;34m.\u001b[0m\u001b[0m_graph\u001b[0m \u001b[0;32mis\u001b[0m \u001b[0;32mNone\u001b[0m\u001b[0;34m:\u001b[0m\u001b[0;34m\u001b[0m\u001b[0;34m\u001b[0m\u001b[0m\n\u001b[0;32m--> 361\u001b[0;31m       \u001b[0;32mraise\u001b[0m \u001b[0mValueError\u001b[0m\u001b[0;34m(\u001b[0m\u001b[0;34m'Closing SolutionBase._graph which is already None'\u001b[0m\u001b[0;34m)\u001b[0m\u001b[0;34m\u001b[0m\u001b[0;34m\u001b[0m\u001b[0m\n\u001b[0m\u001b[1;32m    362\u001b[0m     \u001b[0mself\u001b[0m\u001b[0;34m.\u001b[0m\u001b[0m_graph\u001b[0m\u001b[0;34m.\u001b[0m\u001b[0mclose\u001b[0m\u001b[0;34m(\u001b[0m\u001b[0;34m)\u001b[0m\u001b[0;34m\u001b[0m\u001b[0;34m\u001b[0m\u001b[0m\n\u001b[1;32m    363\u001b[0m     \u001b[0mself\u001b[0m\u001b[0;34m.\u001b[0m\u001b[0m_graph\u001b[0m \u001b[0;34m=\u001b[0m \u001b[0;32mNone\u001b[0m\u001b[0;34m\u001b[0m\u001b[0;34m\u001b[0m\u001b[0m\n",
      "\u001b[0;31mValueError\u001b[0m: Closing SolutionBase._graph which is already None"
     ]
    }
   ],
   "source": [
    "process_videos(file_paths)"
   ]
  },
  {
   "cell_type": "code",
   "execution_count": 10,
   "metadata": {
    "_cell_guid": "a8dbb4f6-ccd2-4c7f-af82-915e0dcb095f",
    "_uuid": "60e6d6eb-879a-48a8-9ce6-11836cd1eeaf",
    "execution": {
     "iopub.execute_input": "2025-07-03T10:37:31.837243Z",
     "iopub.status.busy": "2025-07-03T10:37:31.836922Z",
     "iopub.status.idle": "2025-07-03T10:37:31.929637Z",
     "shell.execute_reply": "2025-07-03T10:37:31.928705Z",
     "shell.execute_reply.started": "2025-07-03T10:37:31.837222Z"
    },
    "trusted": true
   },
   "outputs": [],
   "source": [
    "# Load the landmarks from working directory\n",
    "\n",
    "X = np.load(os.path.join(LANDMARKS_DIR, 'sequences.npy'))\n",
    "y = np.load(os.path.join(LANDMARKS_DIR, 'labels.npy'))"
   ]
  },
  {
   "cell_type": "code",
   "execution_count": 3,
   "metadata": {
    "_cell_guid": "3b41f1dd-47ae-4794-a848-c0691c53f409",
    "_uuid": "63472d31-0d66-4278-b827-2e0ce3958d32",
    "collapsed": false,
    "execution": {
     "iopub.execute_input": "2025-07-03T10:45:47.734249Z",
     "iopub.status.busy": "2025-07-03T10:45:47.733439Z",
     "iopub.status.idle": "2025-07-03T10:45:48.698776Z",
     "shell.execute_reply": "2025-07-03T10:45:48.698235Z",
     "shell.execute_reply.started": "2025-07-03T10:45:47.734218Z"
    },
    "jupyter": {
     "outputs_hidden": false
    },
    "trusted": true
   },
   "outputs": [],
   "source": [
    "# Load the landmarks from an uploaded file\n",
    "\n",
    "X = np.load(\"/kaggle/input/premade/sequences.npy\")\n",
    "y = np.load(\"/kaggle/input/premade/labels.npy\")"
   ]
  },
  {
   "cell_type": "code",
   "execution_count": null,
   "metadata": {
    "_cell_guid": "38560ef9-ca1b-4262-82fe-07226a1e7173",
    "_uuid": "57d647a2-a5c7-44c1-9066-e19bf786a6a3",
    "execution": {
     "iopub.execute_input": "2025-07-01T12:13:54.076373Z",
     "iopub.status.busy": "2025-07-01T12:13:54.076067Z",
     "iopub.status.idle": "2025-07-01T12:13:54.081483Z",
     "shell.execute_reply": "2025-07-01T12:13:54.080666Z",
     "shell.execute_reply.started": "2025-07-01T12:13:54.076352Z"
    },
    "jupyter": {
     "source_hidden": true
    },
    "trusted": true
   },
   "outputs": [],
   "source": [
    "# Check if loaded correctly\n",
    "print(\"Landmarks preview: \\n\", X[0])\n",
    "print(\"Landmarks array shape: \\n\", X.shape)\n",
    "print(\"Labels array shape: \\n\", y.shape)"
   ]
  },
  {
   "cell_type": "code",
   "execution_count": 4,
   "metadata": {
    "_cell_guid": "66cac60e-d98b-4202-8c12-1061f4143e26",
    "_uuid": "4dba17d1-e9b8-43c7-9e8b-2a7d1a3978a3",
    "collapsed": false,
    "execution": {
     "iopub.execute_input": "2025-07-03T10:45:52.035798Z",
     "iopub.status.busy": "2025-07-03T10:45:52.035324Z",
     "iopub.status.idle": "2025-07-03T10:45:52.099492Z",
     "shell.execute_reply": "2025-07-03T10:45:52.098864Z",
     "shell.execute_reply.started": "2025-07-03T10:45:52.035772Z"
    },
    "jupyter": {
     "outputs_hidden": false
    },
    "trusted": true
   },
   "outputs": [
    {
     "name": "stdout",
     "output_type": "stream",
     "text": [
      "Encoded Categories:\n",
      "['beautiful' 'blind' 'deaf' 'happy' 'loud' 'quiet' 'sad' 'ugly']\n"
     ]
    }
   ],
   "source": [
    "x_train, x_test, y_train, y_test = train_test_split(X, y, test_size=0.2, stratify=y, random_state=42)\n",
    "\n",
    "# Initialize label encoder\n",
    "label_encoder = LabelEncoder()\n",
    "\n",
    "# Fit label encoder on the labels and transform them\n",
    "y_train_encoded = label_encoder.fit_transform(y_train)\n",
    "y_test_encoded = label_encoder.transform(y_test)\n",
    "\n",
    "# Now, y_train_encoded and y_test_encoded should be arrays of integers\n",
    "categories = label_encoder.classes_\n",
    "\n",
    "# Print the categories\n",
    "print(\"Encoded Categories:\")\n",
    "print(categories)"
   ]
  },
  {
   "cell_type": "code",
   "execution_count": 5,
   "metadata": {
    "_cell_guid": "ef3c7ba3-3a49-4e62-8223-c07b6de8f8d7",
    "_uuid": "dc6d4ba1-ad21-4fd2-9227-7153dc9a84fb",
    "execution": {
     "iopub.execute_input": "2025-07-03T10:46:04.371964Z",
     "iopub.status.busy": "2025-07-03T10:46:04.371673Z",
     "iopub.status.idle": "2025-07-03T10:46:04.867756Z",
     "shell.execute_reply": "2025-07-03T10:46:04.866971Z",
     "shell.execute_reply.started": "2025-07-03T10:46:04.371942Z"
    },
    "trusted": true
   },
   "outputs": [
    {
     "data": {
      "image/png": "[encoded data removed]",
      "text/plain": [
       "<Figure size 1000x600 with 1 Axes>"
      ]
     },
     "metadata": {},
     "output_type": "display_data"
    },
    {
     "data": {
      "image/png": "[encoded data removed]",
      "text/plain": [
       "<Figure size 1000x600 with 1 Axes>"
      ]
     },
     "metadata": {},
     "output_type": "display_data"
    }
   ],
   "source": [
    "# See the distribution of test, and training data\n",
    "\n",
    "unique_labels, counts = np.unique(y_test, return_counts=True)\n",
    "\n",
    "plt.figure(figsize=(10, 6))\n",
    "plt.bar(unique_labels, counts, tick_label=unique_labels)\n",
    "plt.title('Distribution of Y Labels')\n",
    "plt.xlabel('Label')\n",
    "plt.ylabel('Count')\n",
    "plt.xticks(rotation=0)\n",
    "plt.grid(axis='y', linestyle='--', alpha=0.7)\n",
    "plt.tight_layout()\n",
    "plt.show()\n",
    "\n",
    "unique_labels, counts = np.unique(y_train, return_counts=True)\n",
    "\n",
    "plt.figure(figsize=(10, 6))\n",
    "plt.bar(unique_labels, counts, tick_label=unique_labels)\n",
    "plt.title('Distribution of Y Labels')\n",
    "plt.xlabel('Label')\n",
    "plt.ylabel('Count')\n",
    "plt.xticks(rotation=0)\n",
    "plt.grid(axis='y', linestyle='--', alpha=0.7)\n",
    "plt.tight_layout()\n",
    "plt.show()"
   ]
  },
  {
   "cell_type": "code",
   "execution_count": null,
   "metadata": {
    "_cell_guid": "a054b89c-966c-48ba-97e0-6d2724de87ac",
    "_uuid": "34752af9-748d-44f9-9b8f-dd32957afbf6",
    "execution": {
     "iopub.execute_input": "2025-07-01T17:26:01.516411Z",
     "iopub.status.busy": "2025-07-01T17:26:01.515851Z",
     "iopub.status.idle": "2025-07-01T17:26:03.631172Z",
     "shell.execute_reply": "2025-07-01T17:26:03.630505Z",
     "shell.execute_reply.started": "2025-07-01T17:26:01.516389Z"
    },
    "jupyter": {
     "source_hidden": true
    },
    "trusted": true
   },
   "outputs": [],
   "source": [
    "# Augument to data to increase dataset size\n",
    "\n",
    "def add_noise(sequence, noise_level=0.01):\n",
    "    noise = np.random.normal(loc=0.0, scale=noise_level, size=sequence.shape)\n",
    "    return sequence + noise\n",
    "\n",
    "def scale_sequence(sequence, scale_range=(0.8, 1.2)):\n",
    "    scale_factor = np.random.uniform(scale_range[0], scale_range[1])\n",
    "    return sequence * scale_factor\n",
    "\n",
    "def random_crop_sequence(sequence, desired_length=60):\n",
    "    current_length = sequence.shape[0]\n",
    "    if current_length > desired_length:\n",
    "        start_frame = np.random.randint(0, current_length - desired_length)\n",
    "        return sequence[start_frame:start_frame + desired_length]\n",
    "    elif current_length < desired_length:\n",
    "        padding_needed = desired_length - current_length\n",
    "        last_frame = np.expand_dims(sequence[-1], axis=0)\n",
    "        padding = np.repeat(last_frame, padding_needed, axis=0)\n",
    "        return np.vstack([sequence, padding])\n",
    "    else:\n",
    "        return sequence\n",
    "\n",
    "def flip_landmarks(sequence, original_landmark_dim=1662):\n",
    "    flipped_sequence = sequence.copy()\n",
    "    \n",
    "    for frame in flipped_sequence:\n",
    "        x_indices = np.arange(0, original_landmark_dim, 3)\n",
    "        frame[x_indices] = -frame[x_indices]\n",
    "    \n",
    "    return flipped_sequence\n",
    "\n",
    "def augment_dataset(X, y, num_augmentations_per_sample=3):\n",
    "    augmented_X = []\n",
    "    augmented_y = []\n",
    "    \n",
    "    total_original_samples = len(X)\n",
    "    \n",
    "    for i in range(total_original_samples):\n",
    "        original_sequence = X[i]\n",
    "        original_label = y[i]\n",
    "        \n",
    "        augmented_X.append(original_sequence)\n",
    "        augmented_y.append(original_label)\n",
    "        \n",
    "        for _ in range(num_augmentations_per_sample):\n",
    "            augmented_sequence = original_sequence.copy()\n",
    "            \n",
    "            if random.random() < 0.7:\n",
    "                augmented_sequence = add_noise(augmented_sequence, noise_level=0.005)\n",
    "            \n",
    "            if random.random() < 0.5:\n",
    "                augmented_sequence = scale_sequence(augmented_sequence, scale_range=(0.9, 1.1))\n",
    "            \n",
    "            if random.random() < 0.5:\n",
    "                augmented_sequence = random_crop_sequence(augmented_sequence, desired_length=60)\n",
    "                \n",
    "            if random.random() < 0.5:\n",
    "                augmented_sequence = flip_landmarks(augmented_sequence, original_landmark_dim=1662)\n",
    "\n",
    "            augmented_X.append(augmented_sequence)\n",
    "            augmented_y.append(original_label)\n",
    "            \n",
    "    augmented_X = np.array(augmented_X)\n",
    "    augmented_y = np.array(augmented_y)\n",
    "    \n",
    "    shuffled_indices = np.arange(len(augmented_X))\n",
    "    np.random.shuffle(shuffled_indices)\n",
    "    augmented_X = augmented_X[shuffled_indices]\n",
    "    augmented_y = augmented_y[shuffled_indices]\n",
    "    \n",
    "    return augmented_X, augmented_y\n",
    "\n",
    "x_train_augmented, y_train_augmented = augment_dataset(x_train, y_train_encoded, num_augmentations_per_sample=5)\n",
    "\n",
    "print(f\"Original training data shape: {x_train.shape}\")\n",
    "print(f\"Original training labels shape: {y_train.shape}\")\n",
    "print(\"-\" * 30)\n",
    "print(f\"Augmented training data shape: {x_train_augmented.shape}\")\n",
    "print(f\"Augmented training labels shape: {y_train_augmented.shape}\")"
   ]
  },
  {
   "cell_type": "code",
   "execution_count": 6,
   "metadata": {
    "_cell_guid": "accaf378-461f-4f37-8053-f8e2fc2557f5",
    "_uuid": "5ab1d21f-7655-4a6a-a387-e9b6c86afe36",
    "collapsed": false,
    "execution": {
     "iopub.execute_input": "2025-07-03T10:46:08.240381Z",
     "iopub.status.busy": "2025-07-03T10:46:08.239850Z",
     "iopub.status.idle": "2025-07-03T10:46:28.076652Z",
     "shell.execute_reply": "2025-07-03T10:46:28.076027Z",
     "shell.execute_reply.started": "2025-07-03T10:46:08.240353Z"
    },
    "jupyter": {
     "outputs_hidden": false
    },
    "trusted": true
   },
   "outputs": [
    {
     "name": "stderr",
     "output_type": "stream",
     "text": [
      "2025-07-03 10:46:11.515179: E external/local_xla/xla/stream_executor/cuda/cuda_fft.cc:477] Unable to register cuFFT factory: Attempting to register factory for plugin cuFFT when one has already been registered\n",
      "WARNING: All log messages before absl::InitializeLog() is called are written to STDERR\n",
      "E0000 00:00:1751539571.973450      35 cuda_dnn.cc:8310] Unable to register cuDNN factory: Attempting to register factory for plugin cuDNN when one has already been registered\n",
      "E0000 00:00:1751539572.095732      35 cuda_blas.cc:1418] Unable to register cuBLAS factory: Attempting to register factory for plugin cuBLAS when one has already been registered\n"
     ]
    }
   ],
   "source": [
    "from tensorflow.keras.models import Sequential\n",
    "from tensorflow.keras.layers import LSTM, Dropout, Dense, InputLayer, Bidirectional, Reshape, TimeDistributed, Conv1D, MaxPooling1D, Flatten\n",
    "from tensorflow.keras.optimizers import Adam\n",
    "from tensorflow.keras.callbacks import EarlyStopping, ModelCheckpoint\n",
    "import tensorflow as tf\n",
    "\n",
    "num_classes = len(np.unique(y_train_encoded))"
   ]
  },
  {
   "cell_type": "code",
   "execution_count": 7,
   "metadata": {
    "_cell_guid": "f665fb29-67f2-49f3-b379-73b7a1638fda",
    "_uuid": "f54d0391-0e64-4295-997d-2da8c0bcf433",
    "execution": {
     "iopub.execute_input": "2025-07-03T10:46:28.760359Z",
     "iopub.status.busy": "2025-07-03T10:46:28.759500Z",
     "iopub.status.idle": "2025-07-03T10:46:31.638241Z",
     "shell.execute_reply": "2025-07-03T10:46:31.637527Z",
     "shell.execute_reply.started": "2025-07-03T10:46:28.760331Z"
    },
    "trusted": true
   },
   "outputs": [
    {
     "name": "stderr",
     "output_type": "stream",
     "text": [
      "I0000 00:00:1751539589.232764      35 gpu_device.cc:2022] Created device /job:localhost/replica:0/task:0/device:GPU:0 with 13942 MB memory:  -> device: 0, name: Tesla T4, pci bus id: 0000:00:04.0, compute capability: 7.5\n",
      "I0000 00:00:1751539589.233502      35 gpu_device.cc:2022] Created device /job:localhost/replica:0/task:0/device:GPU:1 with 13942 MB memory:  -> device: 1, name: Tesla T4, pci bus id: 0000:00:05.0, compute capability: 7.5\n"
     ]
    },
    {
     "data": {
      "text/html": [
       "<pre style=\"white-space:pre;overflow-x:auto;line-height:normal;font-family:Menlo,'DejaVu Sans Mono',consolas,'Courier New',monospace\"><span style=\"font-weight: bold\">Model: \"sequential\"</span>\n",
       "</pre>\n"
      ],
      "text/plain": [
       "\u001b[1mModel: \"sequential\"\u001b[0m\n"
      ]
     },
     "metadata": {},
     "output_type": "display_data"
    },
    {
     "data": {
      "text/html": [
       "<pre style=\"white-space:pre;overflow-x:auto;line-height:normal;font-family:Menlo,'DejaVu Sans Mono',consolas,'Courier New',monospace\">┏━━━━━━━━━━━━━━━━━━━━━━━━━━━━━━━━━━━━━━┳━━━━━━━━━━━━━━━━━━━━━━━━━━━━━┳━━━━━━━━━━━━━━━━━┓\n",
       "┃<span style=\"font-weight: bold\"> Layer (type)                         </span>┃<span style=\"font-weight: bold\"> Output Shape                </span>┃<span style=\"font-weight: bold\">         Param # </span>┃\n",
       "┡━━━━━━━━━━━━━━━━━━━━━━━━━━━━━━━━━━━━━━╇━━━━━━━━━━━━━━━━━━━━━━━━━━━━━╇━━━━━━━━━━━━━━━━━┩\n",
       "│ time_distributed (<span style=\"color: #0087ff; text-decoration-color: #0087ff\">TimeDistributed</span>)   │ (<span style=\"color: #00d7ff; text-decoration-color: #00d7ff\">None</span>, <span style=\"color: #00af00; text-decoration-color: #00af00\">60</span>, <span style=\"color: #00af00; text-decoration-color: #00af00\">541</span>, <span style=\"color: #00af00; text-decoration-color: #00af00\">64</span>)         │             <span style=\"color: #00af00; text-decoration-color: #00af00\">832</span> │\n",
       "├──────────────────────────────────────┼─────────────────────────────┼─────────────────┤\n",
       "│ time_distributed_1 (<span style=\"color: #0087ff; text-decoration-color: #0087ff\">TimeDistributed</span>) │ (<span style=\"color: #00d7ff; text-decoration-color: #00d7ff\">None</span>, <span style=\"color: #00af00; text-decoration-color: #00af00\">60</span>, <span style=\"color: #00af00; text-decoration-color: #00af00\">270</span>, <span style=\"color: #00af00; text-decoration-color: #00af00\">64</span>)         │               <span style=\"color: #00af00; text-decoration-color: #00af00\">0</span> │\n",
       "├──────────────────────────────────────┼─────────────────────────────┼─────────────────┤\n",
       "│ time_distributed_2 (<span style=\"color: #0087ff; text-decoration-color: #0087ff\">TimeDistributed</span>) │ (<span style=\"color: #00d7ff; text-decoration-color: #00d7ff\">None</span>, <span style=\"color: #00af00; text-decoration-color: #00af00\">60</span>, <span style=\"color: #00af00; text-decoration-color: #00af00\">268</span>, <span style=\"color: #00af00; text-decoration-color: #00af00\">128</span>)        │          <span style=\"color: #00af00; text-decoration-color: #00af00\">24,704</span> │\n",
       "├──────────────────────────────────────┼─────────────────────────────┼─────────────────┤\n",
       "│ time_distributed_3 (<span style=\"color: #0087ff; text-decoration-color: #0087ff\">TimeDistributed</span>) │ (<span style=\"color: #00d7ff; text-decoration-color: #00d7ff\">None</span>, <span style=\"color: #00af00; text-decoration-color: #00af00\">60</span>, <span style=\"color: #00af00; text-decoration-color: #00af00\">134</span>, <span style=\"color: #00af00; text-decoration-color: #00af00\">128</span>)        │               <span style=\"color: #00af00; text-decoration-color: #00af00\">0</span> │\n",
       "├──────────────────────────────────────┼─────────────────────────────┼─────────────────┤\n",
       "│ time_distributed_4 (<span style=\"color: #0087ff; text-decoration-color: #0087ff\">TimeDistributed</span>) │ (<span style=\"color: #00d7ff; text-decoration-color: #00d7ff\">None</span>, <span style=\"color: #00af00; text-decoration-color: #00af00\">60</span>, <span style=\"color: #00af00; text-decoration-color: #00af00\">17152</span>)           │               <span style=\"color: #00af00; text-decoration-color: #00af00\">0</span> │\n",
       "├──────────────────────────────────────┼─────────────────────────────┼─────────────────┤\n",
       "│ bidirectional (<span style=\"color: #0087ff; text-decoration-color: #0087ff\">Bidirectional</span>)        │ (<span style=\"color: #00d7ff; text-decoration-color: #00d7ff\">None</span>, <span style=\"color: #00af00; text-decoration-color: #00af00\">60</span>, <span style=\"color: #00af00; text-decoration-color: #00af00\">512</span>)             │      <span style=\"color: #00af00; text-decoration-color: #00af00\">35,653,632</span> │\n",
       "├──────────────────────────────────────┼─────────────────────────────┼─────────────────┤\n",
       "│ dropout (<span style=\"color: #0087ff; text-decoration-color: #0087ff\">Dropout</span>)                    │ (<span style=\"color: #00d7ff; text-decoration-color: #00d7ff\">None</span>, <span style=\"color: #00af00; text-decoration-color: #00af00\">60</span>, <span style=\"color: #00af00; text-decoration-color: #00af00\">512</span>)             │               <span style=\"color: #00af00; text-decoration-color: #00af00\">0</span> │\n",
       "├──────────────────────────────────────┼─────────────────────────────┼─────────────────┤\n",
       "│ lstm_1 (<span style=\"color: #0087ff; text-decoration-color: #0087ff\">LSTM</span>)                        │ (<span style=\"color: #00d7ff; text-decoration-color: #00d7ff\">None</span>, <span style=\"color: #00af00; text-decoration-color: #00af00\">60</span>, <span style=\"color: #00af00; text-decoration-color: #00af00\">128</span>)             │         <span style=\"color: #00af00; text-decoration-color: #00af00\">328,192</span> │\n",
       "├──────────────────────────────────────┼─────────────────────────────┼─────────────────┤\n",
       "│ dropout_1 (<span style=\"color: #0087ff; text-decoration-color: #0087ff\">Dropout</span>)                  │ (<span style=\"color: #00d7ff; text-decoration-color: #00d7ff\">None</span>, <span style=\"color: #00af00; text-decoration-color: #00af00\">60</span>, <span style=\"color: #00af00; text-decoration-color: #00af00\">128</span>)             │               <span style=\"color: #00af00; text-decoration-color: #00af00\">0</span> │\n",
       "├──────────────────────────────────────┼─────────────────────────────┼─────────────────┤\n",
       "│ lstm_2 (<span style=\"color: #0087ff; text-decoration-color: #0087ff\">LSTM</span>)                        │ (<span style=\"color: #00d7ff; text-decoration-color: #00d7ff\">None</span>, <span style=\"color: #00af00; text-decoration-color: #00af00\">60</span>, <span style=\"color: #00af00; text-decoration-color: #00af00\">128</span>)             │         <span style=\"color: #00af00; text-decoration-color: #00af00\">131,584</span> │\n",
       "├──────────────────────────────────────┼─────────────────────────────┼─────────────────┤\n",
       "│ dropout_2 (<span style=\"color: #0087ff; text-decoration-color: #0087ff\">Dropout</span>)                  │ (<span style=\"color: #00d7ff; text-decoration-color: #00d7ff\">None</span>, <span style=\"color: #00af00; text-decoration-color: #00af00\">60</span>, <span style=\"color: #00af00; text-decoration-color: #00af00\">128</span>)             │               <span style=\"color: #00af00; text-decoration-color: #00af00\">0</span> │\n",
       "├──────────────────────────────────────┼─────────────────────────────┼─────────────────┤\n",
       "│ lstm_3 (<span style=\"color: #0087ff; text-decoration-color: #0087ff\">LSTM</span>)                        │ (<span style=\"color: #00d7ff; text-decoration-color: #00d7ff\">None</span>, <span style=\"color: #00af00; text-decoration-color: #00af00\">60</span>, <span style=\"color: #00af00; text-decoration-color: #00af00\">64</span>)              │          <span style=\"color: #00af00; text-decoration-color: #00af00\">49,408</span> │\n",
       "├──────────────────────────────────────┼─────────────────────────────┼─────────────────┤\n",
       "│ dropout_3 (<span style=\"color: #0087ff; text-decoration-color: #0087ff\">Dropout</span>)                  │ (<span style=\"color: #00d7ff; text-decoration-color: #00d7ff\">None</span>, <span style=\"color: #00af00; text-decoration-color: #00af00\">60</span>, <span style=\"color: #00af00; text-decoration-color: #00af00\">64</span>)              │               <span style=\"color: #00af00; text-decoration-color: #00af00\">0</span> │\n",
       "├──────────────────────────────────────┼─────────────────────────────┼─────────────────┤\n",
       "│ time_distributed_5 (<span style=\"color: #0087ff; text-decoration-color: #0087ff\">TimeDistributed</span>) │ (<span style=\"color: #00d7ff; text-decoration-color: #00d7ff\">None</span>, <span style=\"color: #00af00; text-decoration-color: #00af00\">60</span>, <span style=\"color: #00af00; text-decoration-color: #00af00\">64</span>)              │           <span style=\"color: #00af00; text-decoration-color: #00af00\">4,160</span> │\n",
       "├──────────────────────────────────────┼─────────────────────────────┼─────────────────┤\n",
       "│ dropout_4 (<span style=\"color: #0087ff; text-decoration-color: #0087ff\">Dropout</span>)                  │ (<span style=\"color: #00d7ff; text-decoration-color: #00d7ff\">None</span>, <span style=\"color: #00af00; text-decoration-color: #00af00\">60</span>, <span style=\"color: #00af00; text-decoration-color: #00af00\">64</span>)              │               <span style=\"color: #00af00; text-decoration-color: #00af00\">0</span> │\n",
       "├──────────────────────────────────────┼─────────────────────────────┼─────────────────┤\n",
       "│ lstm_4 (<span style=\"color: #0087ff; text-decoration-color: #0087ff\">LSTM</span>)                        │ (<span style=\"color: #00d7ff; text-decoration-color: #00d7ff\">None</span>, <span style=\"color: #00af00; text-decoration-color: #00af00\">32</span>)                  │          <span style=\"color: #00af00; text-decoration-color: #00af00\">12,416</span> │\n",
       "├──────────────────────────────────────┼─────────────────────────────┼─────────────────┤\n",
       "│ dropout_5 (<span style=\"color: #0087ff; text-decoration-color: #0087ff\">Dropout</span>)                  │ (<span style=\"color: #00d7ff; text-decoration-color: #00d7ff\">None</span>, <span style=\"color: #00af00; text-decoration-color: #00af00\">32</span>)                  │               <span style=\"color: #00af00; text-decoration-color: #00af00\">0</span> │\n",
       "├──────────────────────────────────────┼─────────────────────────────┼─────────────────┤\n",
       "│ dense_1 (<span style=\"color: #0087ff; text-decoration-color: #0087ff\">Dense</span>)                      │ (<span style=\"color: #00d7ff; text-decoration-color: #00d7ff\">None</span>, <span style=\"color: #00af00; text-decoration-color: #00af00\">8</span>)                   │             <span style=\"color: #00af00; text-decoration-color: #00af00\">264</span> │\n",
       "└──────────────────────────────────────┴─────────────────────────────┴─────────────────┘\n",
       "</pre>\n"
      ],
      "text/plain": [
       "┏━━━━━━━━━━━━━━━━━━━━━━━━━━━━━━━━━━━━━━┳━━━━━━━━━━━━━━━━━━━━━━━━━━━━━┳━━━━━━━━━━━━━━━━━┓\n",
       "┃\u001b[1m \u001b[0m\u001b[1mLayer (type)                        \u001b[0m\u001b[1m \u001b[0m┃\u001b[1m \u001b[0m\u001b[1mOutput Shape               \u001b[0m\u001b[1m \u001b[0m┃\u001b[1m \u001b[0m\u001b[1m        Param #\u001b[0m\u001b[1m \u001b[0m┃\n",
       "┡━━━━━━━━━━━━━━━━━━━━━━━━━━━━━━━━━━━━━━╇━━━━━━━━━━━━━━━━━━━━━━━━━━━━━╇━━━━━━━━━━━━━━━━━┩\n",
       "│ time_distributed (\u001b[38;5;33mTimeDistributed\u001b[0m)   │ (\u001b[38;5;45mNone\u001b[0m, \u001b[38;5;34m60\u001b[0m, \u001b[38;5;34m541\u001b[0m, \u001b[38;5;34m64\u001b[0m)         │             \u001b[38;5;34m832\u001b[0m │\n",
       "├──────────────────────────────────────┼─────────────────────────────┼─────────────────┤\n",
       "│ time_distributed_1 (\u001b[38;5;33mTimeDistributed\u001b[0m) │ (\u001b[38;5;45mNone\u001b[0m, \u001b[38;5;34m60\u001b[0m, \u001b[38;5;34m270\u001b[0m, \u001b[38;5;34m64\u001b[0m)         │               \u001b[38;5;34m0\u001b[0m │\n",
       "├──────────────────────────────────────┼─────────────────────────────┼─────────────────┤\n",
       "│ time_distributed_2 (\u001b[38;5;33mTimeDistributed\u001b[0m) │ (\u001b[38;5;45mNone\u001b[0m, \u001b[38;5;34m60\u001b[0m, \u001b[38;5;34m268\u001b[0m, \u001b[38;5;34m128\u001b[0m)        │          \u001b[38;5;34m24,704\u001b[0m │\n",
       "├──────────────────────────────────────┼─────────────────────────────┼─────────────────┤\n",
       "│ time_distributed_3 (\u001b[38;5;33mTimeDistributed\u001b[0m) │ (\u001b[38;5;45mNone\u001b[0m, \u001b[38;5;34m60\u001b[0m, \u001b[38;5;34m134\u001b[0m, \u001b[38;5;34m128\u001b[0m)        │               \u001b[38;5;34m0\u001b[0m │\n",
       "├──────────────────────────────────────┼─────────────────────────────┼─────────────────┤\n",
       "│ time_distributed_4 (\u001b[38;5;33mTimeDistributed\u001b[0m) │ (\u001b[38;5;45mNone\u001b[0m, \u001b[38;5;34m60\u001b[0m, \u001b[38;5;34m17152\u001b[0m)           │               \u001b[38;5;34m0\u001b[0m │\n",
       "├──────────────────────────────────────┼─────────────────────────────┼─────────────────┤\n",
       "│ bidirectional (\u001b[38;5;33mBidirectional\u001b[0m)        │ (\u001b[38;5;45mNone\u001b[0m, \u001b[38;5;34m60\u001b[0m, \u001b[38;5;34m512\u001b[0m)             │      \u001b[38;5;34m35,653,632\u001b[0m │\n",
       "├──────────────────────────────────────┼─────────────────────────────┼─────────────────┤\n",
       "│ dropout (\u001b[38;5;33mDropout\u001b[0m)                    │ (\u001b[38;5;45mNone\u001b[0m, \u001b[38;5;34m60\u001b[0m, \u001b[38;5;34m512\u001b[0m)             │               \u001b[38;5;34m0\u001b[0m │\n",
       "├──────────────────────────────────────┼─────────────────────────────┼─────────────────┤\n",
       "│ lstm_1 (\u001b[38;5;33mLSTM\u001b[0m)                        │ (\u001b[38;5;45mNone\u001b[0m, \u001b[38;5;34m60\u001b[0m, \u001b[38;5;34m128\u001b[0m)             │         \u001b[38;5;34m328,192\u001b[0m │\n",
       "├──────────────────────────────────────┼─────────────────────────────┼─────────────────┤\n",
       "│ dropout_1 (\u001b[38;5;33mDropout\u001b[0m)                  │ (\u001b[38;5;45mNone\u001b[0m, \u001b[38;5;34m60\u001b[0m, \u001b[38;5;34m128\u001b[0m)             │               \u001b[38;5;34m0\u001b[0m │\n",
       "├──────────────────────────────────────┼─────────────────────────────┼─────────────────┤\n",
       "│ lstm_2 (\u001b[38;5;33mLSTM\u001b[0m)                        │ (\u001b[38;5;45mNone\u001b[0m, \u001b[38;5;34m60\u001b[0m, \u001b[38;5;34m128\u001b[0m)             │         \u001b[38;5;34m131,584\u001b[0m │\n",
       "├──────────────────────────────────────┼─────────────────────────────┼─────────────────┤\n",
       "│ dropout_2 (\u001b[38;5;33mDropout\u001b[0m)                  │ (\u001b[38;5;45mNone\u001b[0m, \u001b[38;5;34m60\u001b[0m, \u001b[38;5;34m128\u001b[0m)             │               \u001b[38;5;34m0\u001b[0m │\n",
       "├──────────────────────────────────────┼─────────────────────────────┼─────────────────┤\n",
       "│ lstm_3 (\u001b[38;5;33mLSTM\u001b[0m)                        │ (\u001b[38;5;45mNone\u001b[0m, \u001b[38;5;34m60\u001b[0m, \u001b[38;5;34m64\u001b[0m)              │          \u001b[38;5;34m49,408\u001b[0m │\n",
       "├──────────────────────────────────────┼─────────────────────────────┼─────────────────┤\n",
       "│ dropout_3 (\u001b[38;5;33mDropout\u001b[0m)                  │ (\u001b[38;5;45mNone\u001b[0m, \u001b[38;5;34m60\u001b[0m, \u001b[38;5;34m64\u001b[0m)              │               \u001b[38;5;34m0\u001b[0m │\n",
       "├──────────────────────────────────────┼─────────────────────────────┼─────────────────┤\n",
       "│ time_distributed_5 (\u001b[38;5;33mTimeDistributed\u001b[0m) │ (\u001b[38;5;45mNone\u001b[0m, \u001b[38;5;34m60\u001b[0m, \u001b[38;5;34m64\u001b[0m)              │           \u001b[38;5;34m4,160\u001b[0m │\n",
       "├──────────────────────────────────────┼─────────────────────────────┼─────────────────┤\n",
       "│ dropout_4 (\u001b[38;5;33mDropout\u001b[0m)                  │ (\u001b[38;5;45mNone\u001b[0m, \u001b[38;5;34m60\u001b[0m, \u001b[38;5;34m64\u001b[0m)              │               \u001b[38;5;34m0\u001b[0m │\n",
       "├──────────────────────────────────────┼─────────────────────────────┼─────────────────┤\n",
       "│ lstm_4 (\u001b[38;5;33mLSTM\u001b[0m)                        │ (\u001b[38;5;45mNone\u001b[0m, \u001b[38;5;34m32\u001b[0m)                  │          \u001b[38;5;34m12,416\u001b[0m │\n",
       "├──────────────────────────────────────┼─────────────────────────────┼─────────────────┤\n",
       "│ dropout_5 (\u001b[38;5;33mDropout\u001b[0m)                  │ (\u001b[38;5;45mNone\u001b[0m, \u001b[38;5;34m32\u001b[0m)                  │               \u001b[38;5;34m0\u001b[0m │\n",
       "├──────────────────────────────────────┼─────────────────────────────┼─────────────────┤\n",
       "│ dense_1 (\u001b[38;5;33mDense\u001b[0m)                      │ (\u001b[38;5;45mNone\u001b[0m, \u001b[38;5;34m8\u001b[0m)                   │             \u001b[38;5;34m264\u001b[0m │\n",
       "└──────────────────────────────────────┴─────────────────────────────┴─────────────────┘\n"
      ]
     },
     "metadata": {},
     "output_type": "display_data"
    },
    {
     "data": {
      "text/html": [
       "<pre style=\"white-space:pre;overflow-x:auto;line-height:normal;font-family:Menlo,'DejaVu Sans Mono',consolas,'Courier New',monospace\"><span style=\"font-weight: bold\"> Total params: </span><span style=\"color: #00af00; text-decoration-color: #00af00\">36,205,192</span> (138.11 MB)\n",
       "</pre>\n"
      ],
      "text/plain": [
       "\u001b[1m Total params: \u001b[0m\u001b[38;5;34m36,205,192\u001b[0m (138.11 MB)\n"
      ]
     },
     "metadata": {},
     "output_type": "display_data"
    },
    {
     "data": {
      "text/html": [
       "<pre style=\"white-space:pre;overflow-x:auto;line-height:normal;font-family:Menlo,'DejaVu Sans Mono',consolas,'Courier New',monospace\"><span style=\"font-weight: bold\"> Trainable params: </span><span style=\"color: #00af00; text-decoration-color: #00af00\">36,205,192</span> (138.11 MB)\n",
       "</pre>\n"
      ],
      "text/plain": [
       "\u001b[1m Trainable params: \u001b[0m\u001b[38;5;34m36,205,192\u001b[0m (138.11 MB)\n"
      ]
     },
     "metadata": {},
     "output_type": "display_data"
    },
    {
     "data": {
      "text/html": [
       "<pre style=\"white-space:pre;overflow-x:auto;line-height:normal;font-family:Menlo,'DejaVu Sans Mono',consolas,'Courier New',monospace\"><span style=\"font-weight: bold\"> Non-trainable params: </span><span style=\"color: #00af00; text-decoration-color: #00af00\">0</span> (0.00 B)\n",
       "</pre>\n"
      ],
      "text/plain": [
       "\u001b[1m Non-trainable params: \u001b[0m\u001b[38;5;34m0\u001b[0m (0.00 B)\n"
      ]
     },
     "metadata": {},
     "output_type": "display_data"
    }
   ],
   "source": [
    "model = Sequential()\n",
    "model.add(InputLayer(shape=(x_train.shape[1], x_train.shape[2], x_train.shape[3])))\n",
    "model.add(TimeDistributed(Conv1D(filters=64, kernel_size=3, activation='relu')))\n",
    "model.add(TimeDistributed(MaxPooling1D(pool_size=2)))\n",
    "model.add(TimeDistributed(Conv1D(filters=128, kernel_size=3, activation='relu')))\n",
    "model.add(TimeDistributed(MaxPooling1D(pool_size=2)))\n",
    "model.add(TimeDistributed(Flatten()))\n",
    "model.add(Bidirectional(LSTM(256, return_sequences=True)))\n",
    "model.add(Dropout(0.5)) \n",
    "model.add(LSTM(128, return_sequences=True))\n",
    "model.add(Dropout(0.4))\n",
    "model.add(LSTM(128, return_sequences=True))\n",
    "model.add(Dropout(0.4))\n",
    "model.add(LSTM(64, return_sequences=True))\n",
    "model.add(Dropout(0.4))\n",
    "model.add(TimeDistributed(Dense(64, activation='relu')))\n",
    "model.add(Dropout(0.4))\n",
    "model.add(LSTM(32))\n",
    "model.add(Dropout(0.4))\n",
    "model.add(Dense(num_classes, activation='softmax'))\n",
    "\n",
    "model.summary()\n",
    "\n",
    "optimizer = Adam(learning_rate=0.0001)\n",
    "model.compile(optimizer=optimizer, loss='sparse_categorical_crossentropy', metrics=['accuracy'])"
   ]
  },
  {
   "cell_type": "code",
   "execution_count": 8,
   "metadata": {
    "_cell_guid": "3fe53467-eedc-4a97-8bdc-4da830c67416",
    "_uuid": "6033a81f-f793-4b68-a183-9cd3849bddd8",
    "collapsed": true,
    "execution": {
     "iopub.execute_input": "2025-07-03T10:46:34.350500Z",
     "iopub.status.busy": "2025-07-03T10:46:34.350229Z",
     "iopub.status.idle": "2025-07-03T11:01:22.794321Z",
     "shell.execute_reply": "2025-07-03T11:01:22.793097Z",
     "shell.execute_reply.started": "2025-07-03T10:46:34.350480Z"
    },
    "jupyter": {
     "outputs_hidden": true
    },
    "trusted": true
   },
   "outputs": [
    {
     "name": "stdout",
     "output_type": "stream",
     "text": [
      "Epoch 1/300\n"
     ]
    },
    {
     "name": "stderr",
     "output_type": "stream",
     "text": [
      "I0000 00:00:1751539630.112586     103 cuda_dnn.cc:529] Loaded cuDNN version 90300\n"
     ]
    },
    {
     "name": "stdout",
     "output_type": "stream",
     "text": [
      "\u001b[1m29/29\u001b[0m \u001b[32m━━━━━━━━━━━━━━━━━━━━\u001b[0m\u001b[37m\u001b[0m \u001b[1m52s\u001b[0m 479ms/step - accuracy: 0.1677 - loss: 2.0970 - val_accuracy: 0.1724 - val_loss: 2.0677\n",
      "Epoch 2/300\n",
      "\u001b[1m29/29\u001b[0m \u001b[32m━━━━━━━━━━━━━━━━━━━━\u001b[0m\u001b[37m\u001b[0m \u001b[1m4s\u001b[0m 150ms/step - accuracy: 0.1356 - loss: 2.0608 - val_accuracy: 0.1724 - val_loss: 2.0620\n",
      "Epoch 3/300\n",
      "\u001b[1m29/29\u001b[0m \u001b[32m━━━━━━━━━━━━━━━━━━━━\u001b[0m\u001b[37m\u001b[0m \u001b[1m4s\u001b[0m 151ms/step - accuracy: 0.1886 - loss: 2.0673 - val_accuracy: 0.1724 - val_loss: 2.0647\n",
      "Epoch 4/300\n",
      "\u001b[1m29/29\u001b[0m \u001b[32m━━━━━━━━━━━━━━━━━━━━\u001b[0m\u001b[37m\u001b[0m \u001b[1m4s\u001b[0m 152ms/step - accuracy: 0.1210 - loss: 2.0883 - val_accuracy: 0.1724 - val_loss: 2.0623\n",
      "Epoch 5/300\n",
      "\u001b[1m29/29\u001b[0m \u001b[32m━━━━━━━━━━━━━━━━━━━━\u001b[0m\u001b[37m\u001b[0m \u001b[1m4s\u001b[0m 150ms/step - accuracy: 0.1375 - loss: 2.0816 - val_accuracy: 0.1724 - val_loss: 2.0611\n",
      "Epoch 6/300\n",
      "\u001b[1m29/29\u001b[0m \u001b[32m━━━━━━━━━━━━━━━━━━━━\u001b[0m\u001b[37m\u001b[0m \u001b[1m4s\u001b[0m 152ms/step - accuracy: 0.1323 - loss: 2.0640 - val_accuracy: 0.1724 - val_loss: 2.0584\n",
      "Epoch 7/300\n",
      "\u001b[1m29/29\u001b[0m \u001b[32m━━━━━━━━━━━━━━━━━━━━\u001b[0m\u001b[37m\u001b[0m \u001b[1m4s\u001b[0m 151ms/step - accuracy: 0.2092 - loss: 2.0276 - val_accuracy: 0.2069 - val_loss: 2.0598\n",
      "Epoch 8/300\n",
      "\u001b[1m29/29\u001b[0m \u001b[32m━━━━━━━━━━━━━━━━━━━━\u001b[0m\u001b[37m\u001b[0m \u001b[1m4s\u001b[0m 152ms/step - accuracy: 0.1475 - loss: 2.0561 - val_accuracy: 0.1724 - val_loss: 2.0641\n",
      "Epoch 9/300\n",
      "\u001b[1m29/29\u001b[0m \u001b[32m━━━━━━━━━━━━━━━━━━━━\u001b[0m\u001b[37m\u001b[0m \u001b[1m4s\u001b[0m 152ms/step - accuracy: 0.2452 - loss: 2.0118 - val_accuracy: 0.1379 - val_loss: 2.0694\n",
      "Epoch 10/300\n",
      "\u001b[1m29/29\u001b[0m \u001b[32m━━━━━━━━━━━━━━━━━━━━\u001b[0m\u001b[37m\u001b[0m \u001b[1m4s\u001b[0m 152ms/step - accuracy: 0.2156 - loss: 2.0417 - val_accuracy: 0.1379 - val_loss: 2.0721\n",
      "Epoch 11/300\n",
      "\u001b[1m29/29\u001b[0m \u001b[32m━━━━━━━━━━━━━━━━━━━━\u001b[0m\u001b[37m\u001b[0m \u001b[1m5s\u001b[0m 155ms/step - accuracy: 0.1807 - loss: 2.0521 - val_accuracy: 0.0690 - val_loss: 2.0826\n",
      "Epoch 12/300\n",
      "\u001b[1m29/29\u001b[0m \u001b[32m━━━━━━━━━━━━━━━━━━━━\u001b[0m\u001b[37m\u001b[0m \u001b[1m4s\u001b[0m 153ms/step - accuracy: 0.1883 - loss: 2.0107 - val_accuracy: 0.1034 - val_loss: 2.0873\n",
      "Epoch 13/300\n",
      "\u001b[1m29/29\u001b[0m \u001b[32m━━━━━━━━━━━━━━━━━━━━\u001b[0m\u001b[37m\u001b[0m \u001b[1m4s\u001b[0m 153ms/step - accuracy: 0.2421 - loss: 1.9833 - val_accuracy: 0.1034 - val_loss: 2.0946\n",
      "Epoch 14/300\n",
      "\u001b[1m29/29\u001b[0m \u001b[32m━━━━━━━━━━━━━━━━━━━━\u001b[0m\u001b[37m\u001b[0m \u001b[1m4s\u001b[0m 153ms/step - accuracy: 0.2200 - loss: 1.9942 - val_accuracy: 0.0690 - val_loss: 2.1130\n",
      "Epoch 15/300\n",
      "\u001b[1m29/29\u001b[0m \u001b[32m━━━━━━━━━━━━━━━━━━━━\u001b[0m\u001b[37m\u001b[0m \u001b[1m4s\u001b[0m 154ms/step - accuracy: 0.2135 - loss: 2.0174 - val_accuracy: 0.1034 - val_loss: 2.1049\n",
      "Epoch 16/300\n",
      "\u001b[1m29/29\u001b[0m \u001b[32m━━━━━━━━━━━━━━━━━━━━\u001b[0m\u001b[37m\u001b[0m \u001b[1m4s\u001b[0m 154ms/step - accuracy: 0.3312 - loss: 1.9459 - val_accuracy: 0.0345 - val_loss: 2.1172\n",
      "Epoch 17/300\n",
      "\u001b[1m29/29\u001b[0m \u001b[32m━━━━━━━━━━━━━━━━━━━━\u001b[0m\u001b[37m\u001b[0m \u001b[1m5s\u001b[0m 155ms/step - accuracy: 0.2695 - loss: 1.9558 - val_accuracy: 0.1379 - val_loss: 2.1048\n",
      "Epoch 18/300\n",
      "\u001b[1m29/29\u001b[0m \u001b[32m━━━━━━━━━━━━━━━━━━━━\u001b[0m\u001b[37m\u001b[0m \u001b[1m5s\u001b[0m 156ms/step - accuracy: 0.2963 - loss: 1.9569 - val_accuracy: 0.0690 - val_loss: 2.1267\n",
      "Epoch 19/300\n",
      "\u001b[1m29/29\u001b[0m \u001b[32m━━━━━━━━━━━━━━━━━━━━\u001b[0m\u001b[37m\u001b[0m \u001b[1m5s\u001b[0m 156ms/step - accuracy: 0.3329 - loss: 1.9186 - val_accuracy: 0.1379 - val_loss: 2.1313\n",
      "Epoch 20/300\n",
      "\u001b[1m29/29\u001b[0m \u001b[32m━━━━━━━━━━━━━━━━━━━━\u001b[0m\u001b[37m\u001b[0m \u001b[1m5s\u001b[0m 156ms/step - accuracy: 0.2316 - loss: 1.9978 - val_accuracy: 0.0690 - val_loss: 2.1312\n",
      "Epoch 21/300\n",
      "\u001b[1m29/29\u001b[0m \u001b[32m━━━━━━━━━━━━━━━━━━━━\u001b[0m\u001b[37m\u001b[0m \u001b[1m5s\u001b[0m 157ms/step - accuracy: 0.2945 - loss: 1.9196 - val_accuracy: 0.1034 - val_loss: 2.1482\n",
      "Epoch 22/300\n",
      "\u001b[1m29/29\u001b[0m \u001b[32m━━━━━━━━━━━━━━━━━━━━\u001b[0m\u001b[37m\u001b[0m \u001b[1m5s\u001b[0m 157ms/step - accuracy: 0.2653 - loss: 1.9043 - val_accuracy: 0.1379 - val_loss: 2.1567\n",
      "Epoch 23/300\n",
      "\u001b[1m29/29\u001b[0m \u001b[32m━━━━━━━━━━━━━━━━━━━━\u001b[0m\u001b[37m\u001b[0m \u001b[1m5s\u001b[0m 157ms/step - accuracy: 0.3188 - loss: 1.8685 - val_accuracy: 0.1379 - val_loss: 2.1264\n",
      "Epoch 24/300\n",
      "\u001b[1m29/29\u001b[0m \u001b[32m━━━━━━━━━━━━━━━━━━━━\u001b[0m\u001b[37m\u001b[0m \u001b[1m5s\u001b[0m 157ms/step - accuracy: 0.3383 - loss: 1.8873 - val_accuracy: 0.1379 - val_loss: 2.1413\n",
      "Epoch 25/300\n",
      "\u001b[1m29/29\u001b[0m \u001b[32m━━━━━━━━━━━━━━━━━━━━\u001b[0m\u001b[37m\u001b[0m \u001b[1m5s\u001b[0m 158ms/step - accuracy: 0.2878 - loss: 1.9322 - val_accuracy: 0.1379 - val_loss: 2.1504\n",
      "Epoch 26/300\n",
      "\u001b[1m29/29\u001b[0m \u001b[32m━━━━━━━━━━━━━━━━━━━━\u001b[0m\u001b[37m\u001b[0m \u001b[1m5s\u001b[0m 156ms/step - accuracy: 0.2437 - loss: 1.9261 - val_accuracy: 0.1379 - val_loss: 2.0989\n",
      "Epoch 27/300\n",
      "\u001b[1m29/29\u001b[0m \u001b[32m━━━━━━━━━━━━━━━━━━━━\u001b[0m\u001b[37m\u001b[0m \u001b[1m5s\u001b[0m 155ms/step - accuracy: 0.2397 - loss: 1.9327 - val_accuracy: 0.1379 - val_loss: 2.1257\n",
      "Epoch 28/300\n",
      "\u001b[1m29/29\u001b[0m \u001b[32m━━━━━━━━━━━━━━━━━━━━\u001b[0m\u001b[37m\u001b[0m \u001b[1m5s\u001b[0m 156ms/step - accuracy: 0.2741 - loss: 1.9044 - val_accuracy: 0.1724 - val_loss: 2.1005\n",
      "Epoch 29/300\n",
      "\u001b[1m29/29\u001b[0m \u001b[32m━━━━━━━━━━━━━━━━━━━━\u001b[0m\u001b[37m\u001b[0m \u001b[1m4s\u001b[0m 155ms/step - accuracy: 0.3279 - loss: 1.8231 - val_accuracy: 0.1724 - val_loss: 2.1297\n",
      "Epoch 30/300\n",
      "\u001b[1m29/29\u001b[0m \u001b[32m━━━━━━━━━━━━━━━━━━━━\u001b[0m\u001b[37m\u001b[0m \u001b[1m4s\u001b[0m 155ms/step - accuracy: 0.3105 - loss: 1.8514 - val_accuracy: 0.2069 - val_loss: 2.0300\n",
      "Epoch 31/300\n",
      "\u001b[1m29/29\u001b[0m \u001b[32m━━━━━━━━━━━━━━━━━━━━\u001b[0m\u001b[37m\u001b[0m \u001b[1m4s\u001b[0m 154ms/step - accuracy: 0.2073 - loss: 1.9219 - val_accuracy: 0.1724 - val_loss: 2.0710\n",
      "Epoch 32/300\n",
      "\u001b[1m29/29\u001b[0m \u001b[32m━━━━━━━━━━━━━━━━━━━━\u001b[0m\u001b[37m\u001b[0m \u001b[1m5s\u001b[0m 157ms/step - accuracy: 0.2379 - loss: 1.9140 - val_accuracy: 0.1724 - val_loss: 2.0486\n",
      "Epoch 33/300\n",
      "\u001b[1m29/29\u001b[0m \u001b[32m━━━━━━━━━━━━━━━━━━━━\u001b[0m\u001b[37m\u001b[0m \u001b[1m4s\u001b[0m 154ms/step - accuracy: 0.2793 - loss: 1.8142 - val_accuracy: 0.2414 - val_loss: 2.0428\n",
      "Epoch 34/300\n",
      "\u001b[1m29/29\u001b[0m \u001b[32m━━━━━━━━━━━━━━━━━━━━\u001b[0m\u001b[37m\u001b[0m \u001b[1m4s\u001b[0m 154ms/step - accuracy: 0.3862 - loss: 1.7955 - val_accuracy: 0.1724 - val_loss: 2.0707\n",
      "Epoch 35/300\n",
      "\u001b[1m29/29\u001b[0m \u001b[32m━━━━━━━━━━━━━━━━━━━━\u001b[0m\u001b[37m\u001b[0m \u001b[1m4s\u001b[0m 155ms/step - accuracy: 0.2663 - loss: 1.8384 - val_accuracy: 0.2414 - val_loss: 2.0041\n",
      "Epoch 36/300\n",
      "\u001b[1m29/29\u001b[0m \u001b[32m━━━━━━━━━━━━━━━━━━━━\u001b[0m\u001b[37m\u001b[0m \u001b[1m4s\u001b[0m 154ms/step - accuracy: 0.4241 - loss: 1.6668 - val_accuracy: 0.2069 - val_loss: 1.9493\n",
      "Epoch 37/300\n",
      "\u001b[1m29/29\u001b[0m \u001b[32m━━━━━━━━━━━━━━━━━━━━\u001b[0m\u001b[37m\u001b[0m \u001b[1m4s\u001b[0m 154ms/step - accuracy: 0.3878 - loss: 1.7252 - val_accuracy: 0.2414 - val_loss: 1.8949\n",
      "Epoch 38/300\n",
      "\u001b[1m29/29\u001b[0m \u001b[32m━━━━━━━━━━━━━━━━━━━━\u001b[0m\u001b[37m\u001b[0m \u001b[1m4s\u001b[0m 154ms/step - accuracy: 0.4950 - loss: 1.6273 - val_accuracy: 0.2759 - val_loss: 1.8184\n",
      "Epoch 39/300\n",
      "\u001b[1m29/29\u001b[0m \u001b[32m━━━━━━━━━━━━━━━━━━━━\u001b[0m\u001b[37m\u001b[0m \u001b[1m5s\u001b[0m 156ms/step - accuracy: 0.3688 - loss: 1.7216 - val_accuracy: 0.2069 - val_loss: 2.0065\n",
      "Epoch 40/300\n",
      "\u001b[1m29/29\u001b[0m \u001b[32m━━━━━━━━━━━━━━━━━━━━\u001b[0m\u001b[37m\u001b[0m \u001b[1m4s\u001b[0m 154ms/step - accuracy: 0.3048 - loss: 1.8716 - val_accuracy: 0.1724 - val_loss: 2.0489\n",
      "Epoch 41/300\n",
      "\u001b[1m29/29\u001b[0m \u001b[32m━━━━━━━━━━━━━━━━━━━━\u001b[0m\u001b[37m\u001b[0m \u001b[1m5s\u001b[0m 155ms/step - accuracy: 0.4435 - loss: 1.6564 - val_accuracy: 0.2759 - val_loss: 1.9233\n",
      "Epoch 42/300\n",
      "\u001b[1m29/29\u001b[0m \u001b[32m━━━━━━━━━━━━━━━━━━━━\u001b[0m\u001b[37m\u001b[0m \u001b[1m5s\u001b[0m 155ms/step - accuracy: 0.4683 - loss: 1.5647 - val_accuracy: 0.3103 - val_loss: 1.7686\n",
      "Epoch 43/300\n",
      "\u001b[1m29/29\u001b[0m \u001b[32m━━━━━━━━━━━━━━━━━━━━\u001b[0m\u001b[37m\u001b[0m \u001b[1m5s\u001b[0m 155ms/step - accuracy: 0.4501 - loss: 1.5289 - val_accuracy: 0.2759 - val_loss: 1.7796\n",
      "Epoch 44/300\n",
      "\u001b[1m29/29\u001b[0m \u001b[32m━━━━━━━━━━━━━━━━━━━━\u001b[0m\u001b[37m\u001b[0m \u001b[1m5s\u001b[0m 155ms/step - accuracy: 0.4302 - loss: 1.5901 - val_accuracy: 0.2759 - val_loss: 1.7725\n",
      "Epoch 45/300\n",
      "\u001b[1m29/29\u001b[0m \u001b[32m━━━━━━━━━━━━━━━━━━━━\u001b[0m\u001b[37m\u001b[0m \u001b[1m4s\u001b[0m 155ms/step - accuracy: 0.5231 - loss: 1.4455 - val_accuracy: 0.3103 - val_loss: 1.6960\n",
      "Epoch 46/300\n",
      "\u001b[1m29/29\u001b[0m \u001b[32m━━━━━━━━━━━━━━━━━━━━\u001b[0m\u001b[37m\u001b[0m \u001b[1m5s\u001b[0m 156ms/step - accuracy: 0.3899 - loss: 1.5360 - val_accuracy: 0.3103 - val_loss: 1.6935\n",
      "Epoch 47/300\n",
      "\u001b[1m29/29\u001b[0m \u001b[32m━━━━━━━━━━━━━━━━━━━━\u001b[0m\u001b[37m\u001b[0m \u001b[1m4s\u001b[0m 155ms/step - accuracy: 0.5481 - loss: 1.4178 - val_accuracy: 0.2759 - val_loss: 1.7367\n",
      "Epoch 48/300\n",
      "\u001b[1m29/29\u001b[0m \u001b[32m━━━━━━━━━━━━━━━━━━━━\u001b[0m\u001b[37m\u001b[0m \u001b[1m4s\u001b[0m 155ms/step - accuracy: 0.4628 - loss: 1.5369 - val_accuracy: 0.2759 - val_loss: 1.8288\n",
      "Epoch 49/300\n",
      "\u001b[1m29/29\u001b[0m \u001b[32m━━━━━━━━━━━━━━━━━━━━\u001b[0m\u001b[37m\u001b[0m \u001b[1m4s\u001b[0m 154ms/step - accuracy: 0.4634 - loss: 1.4898 - val_accuracy: 0.2759 - val_loss: 1.7417\n",
      "Epoch 50/300\n",
      "\u001b[1m29/29\u001b[0m \u001b[32m━━━━━━━━━━━━━━━━━━━━\u001b[0m\u001b[37m\u001b[0m \u001b[1m4s\u001b[0m 155ms/step - accuracy: 0.4812 - loss: 1.3605 - val_accuracy: 0.3103 - val_loss: 1.7502\n",
      "Epoch 51/300\n",
      "\u001b[1m29/29\u001b[0m \u001b[32m━━━━━━━━━━━━━━━━━━━━\u001b[0m\u001b[37m\u001b[0m \u001b[1m4s\u001b[0m 155ms/step - accuracy: 0.5745 - loss: 1.2479 - val_accuracy: 0.3448 - val_loss: 1.6647\n",
      "Epoch 52/300\n",
      "\u001b[1m29/29\u001b[0m \u001b[32m━━━━━━━━━━━━━━━━━━━━\u001b[0m\u001b[37m\u001b[0m \u001b[1m4s\u001b[0m 154ms/step - accuracy: 0.5039 - loss: 1.2951 - val_accuracy: 0.3103 - val_loss: 1.6720\n",
      "Epoch 53/300\n",
      "\u001b[1m29/29\u001b[0m \u001b[32m━━━━━━━━━━━━━━━━━━━━\u001b[0m\u001b[37m\u001b[0m \u001b[1m5s\u001b[0m 156ms/step - accuracy: 0.5866 - loss: 1.2327 - val_accuracy: 0.3103 - val_loss: 1.8121\n",
      "Epoch 54/300\n",
      "\u001b[1m29/29\u001b[0m \u001b[32m━━━━━━━━━━━━━━━━━━━━\u001b[0m\u001b[37m\u001b[0m \u001b[1m4s\u001b[0m 154ms/step - accuracy: 0.5142 - loss: 1.4279 - val_accuracy: 0.3793 - val_loss: 1.6523\n",
      "Epoch 55/300\n",
      "\u001b[1m29/29\u001b[0m \u001b[32m━━━━━━━━━━━━━━━━━━━━\u001b[0m\u001b[37m\u001b[0m \u001b[1m4s\u001b[0m 154ms/step - accuracy: 0.5569 - loss: 1.2439 - val_accuracy: 0.4483 - val_loss: 1.4099\n",
      "Epoch 56/300\n",
      "\u001b[1m29/29\u001b[0m \u001b[32m━━━━━━━━━━━━━━━━━━━━\u001b[0m\u001b[37m\u001b[0m \u001b[1m4s\u001b[0m 154ms/step - accuracy: 0.5097 - loss: 1.1813 - val_accuracy: 0.4138 - val_loss: 1.4257\n",
      "Epoch 57/300\n",
      "\u001b[1m29/29\u001b[0m \u001b[32m━━━━━━━━━━━━━━━━━━━━\u001b[0m\u001b[37m\u001b[0m \u001b[1m4s\u001b[0m 154ms/step - accuracy: 0.5306 - loss: 1.2856 - val_accuracy: 0.4828 - val_loss: 1.3393\n",
      "Epoch 58/300\n",
      "\u001b[1m29/29\u001b[0m \u001b[32m━━━━━━━━━━━━━━━━━━━━\u001b[0m\u001b[37m\u001b[0m \u001b[1m4s\u001b[0m 154ms/step - accuracy: 0.4887 - loss: 1.2271 - val_accuracy: 0.4483 - val_loss: 1.3554\n",
      "Epoch 59/300\n",
      "\u001b[1m29/29\u001b[0m \u001b[32m━━━━━━━━━━━━━━━━━━━━\u001b[0m\u001b[37m\u001b[0m \u001b[1m4s\u001b[0m 154ms/step - accuracy: 0.6366 - loss: 1.1481 - val_accuracy: 0.4138 - val_loss: 1.4821\n",
      "Epoch 60/300\n",
      "\u001b[1m29/29\u001b[0m \u001b[32m━━━━━━━━━━━━━━━━━━━━\u001b[0m\u001b[37m\u001b[0m \u001b[1m5s\u001b[0m 156ms/step - accuracy: 0.5928 - loss: 1.1993 - val_accuracy: 0.4138 - val_loss: 1.4410\n",
      "Epoch 61/300\n",
      "\u001b[1m29/29\u001b[0m \u001b[32m━━━━━━━━━━━━━━━━━━━━\u001b[0m\u001b[37m\u001b[0m \u001b[1m4s\u001b[0m 155ms/step - accuracy: 0.5050 - loss: 1.2938 - val_accuracy: 0.4483 - val_loss: 1.3348\n",
      "Epoch 62/300\n",
      "\u001b[1m29/29\u001b[0m \u001b[32m━━━━━━━━━━━━━━━━━━━━\u001b[0m\u001b[37m\u001b[0m \u001b[1m4s\u001b[0m 154ms/step - accuracy: 0.5631 - loss: 1.1458 - val_accuracy: 0.4828 - val_loss: 1.3151\n",
      "Epoch 63/300\n",
      "\u001b[1m29/29\u001b[0m \u001b[32m━━━━━━━━━━━━━━━━━━━━\u001b[0m\u001b[37m\u001b[0m \u001b[1m4s\u001b[0m 154ms/step - accuracy: 0.6227 - loss: 1.1402 - val_accuracy: 0.4828 - val_loss: 1.2376\n",
      "Epoch 64/300\n",
      "\u001b[1m29/29\u001b[0m \u001b[32m━━━━━━━━━━━━━━━━━━━━\u001b[0m\u001b[37m\u001b[0m \u001b[1m4s\u001b[0m 154ms/step - accuracy: 0.6449 - loss: 1.0709 - val_accuracy: 0.4828 - val_loss: 1.2608\n",
      "Epoch 65/300\n",
      "\u001b[1m29/29\u001b[0m \u001b[32m━━━━━━━━━━━━━━━━━━━━\u001b[0m\u001b[37m\u001b[0m \u001b[1m4s\u001b[0m 154ms/step - accuracy: 0.5567 - loss: 1.1453 - val_accuracy: 0.3793 - val_loss: 1.5519\n",
      "Epoch 66/300\n",
      "\u001b[1m29/29\u001b[0m \u001b[32m━━━━━━━━━━━━━━━━━━━━\u001b[0m\u001b[37m\u001b[0m \u001b[1m4s\u001b[0m 155ms/step - accuracy: 0.6899 - loss: 0.9730 - val_accuracy: 0.4138 - val_loss: 1.5529\n",
      "Epoch 67/300\n",
      "\u001b[1m29/29\u001b[0m \u001b[32m━━━━━━━━━━━━━━━━━━━━\u001b[0m\u001b[37m\u001b[0m \u001b[1m5s\u001b[0m 156ms/step - accuracy: 0.6082 - loss: 1.0401 - val_accuracy: 0.5172 - val_loss: 1.1722\n",
      "Epoch 68/300\n",
      "\u001b[1m29/29\u001b[0m \u001b[32m━━━━━━━━━━━━━━━━━━━━\u001b[0m\u001b[37m\u001b[0m \u001b[1m4s\u001b[0m 155ms/step - accuracy: 0.5885 - loss: 1.0549 - val_accuracy: 0.4483 - val_loss: 1.3003\n",
      "Epoch 69/300\n",
      "\u001b[1m29/29\u001b[0m \u001b[32m━━━━━━━━━━━━━━━━━━━━\u001b[0m\u001b[37m\u001b[0m \u001b[1m4s\u001b[0m 154ms/step - accuracy: 0.6371 - loss: 1.0584 - val_accuracy: 0.5172 - val_loss: 1.2097\n",
      "Epoch 70/300\n",
      "\u001b[1m29/29\u001b[0m \u001b[32m━━━━━━━━━━━━━━━━━━━━\u001b[0m\u001b[37m\u001b[0m \u001b[1m4s\u001b[0m 155ms/step - accuracy: 0.6314 - loss: 1.1320 - val_accuracy: 0.5517 - val_loss: 1.1757\n",
      "Epoch 71/300\n",
      "\u001b[1m29/29\u001b[0m \u001b[32m━━━━━━━━━━━━━━━━━━━━\u001b[0m\u001b[37m\u001b[0m \u001b[1m4s\u001b[0m 154ms/step - accuracy: 0.5732 - loss: 1.0162 - val_accuracy: 0.4138 - val_loss: 1.3317\n",
      "Epoch 72/300\n",
      "\u001b[1m29/29\u001b[0m \u001b[32m━━━━━━━━━━━━━━━━━━━━\u001b[0m\u001b[37m\u001b[0m \u001b[1m5s\u001b[0m 155ms/step - accuracy: 0.6364 - loss: 1.0455 - val_accuracy: 0.5862 - val_loss: 1.1021\n",
      "Epoch 73/300\n",
      "\u001b[1m29/29\u001b[0m \u001b[32m━━━━━━━━━━━━━━━━━━━━\u001b[0m\u001b[37m\u001b[0m \u001b[1m4s\u001b[0m 154ms/step - accuracy: 0.6009 - loss: 1.0665 - val_accuracy: 0.5862 - val_loss: 1.0883\n",
      "Epoch 74/300\n",
      "\u001b[1m29/29\u001b[0m \u001b[32m━━━━━━━━━━━━━━━━━━━━\u001b[0m\u001b[37m\u001b[0m \u001b[1m5s\u001b[0m 156ms/step - accuracy: 0.6811 - loss: 1.0177 - val_accuracy: 0.5862 - val_loss: 1.1036\n",
      "Epoch 75/300\n",
      "\u001b[1m29/29\u001b[0m \u001b[32m━━━━━━━━━━━━━━━━━━━━\u001b[0m\u001b[37m\u001b[0m \u001b[1m4s\u001b[0m 154ms/step - accuracy: 0.6394 - loss: 0.9600 - val_accuracy: 0.6207 - val_loss: 1.2120\n",
      "Epoch 76/300\n",
      "\u001b[1m29/29\u001b[0m \u001b[32m━━━━━━━━━━━━━━━━━━━━\u001b[0m\u001b[37m\u001b[0m \u001b[1m4s\u001b[0m 154ms/step - accuracy: 0.6352 - loss: 0.9986 - val_accuracy: 0.5862 - val_loss: 1.0571\n",
      "Epoch 77/300\n",
      "\u001b[1m29/29\u001b[0m \u001b[32m━━━━━━━━━━━━━━━━━━━━\u001b[0m\u001b[37m\u001b[0m \u001b[1m4s\u001b[0m 154ms/step - accuracy: 0.6615 - loss: 0.8809 - val_accuracy: 0.5172 - val_loss: 1.2463\n",
      "Epoch 78/300\n",
      "\u001b[1m29/29\u001b[0m \u001b[32m━━━━━━━━━━━━━━━━━━━━\u001b[0m\u001b[37m\u001b[0m \u001b[1m4s\u001b[0m 154ms/step - accuracy: 0.6633 - loss: 0.9114 - val_accuracy: 0.5862 - val_loss: 1.1529\n",
      "Epoch 79/300\n",
      "\u001b[1m29/29\u001b[0m \u001b[32m━━━━━━━━━━━━━━━━━━━━\u001b[0m\u001b[37m\u001b[0m \u001b[1m5s\u001b[0m 155ms/step - accuracy: 0.7056 - loss: 0.8365 - val_accuracy: 0.6897 - val_loss: 0.9034\n",
      "Epoch 80/300\n",
      "\u001b[1m29/29\u001b[0m \u001b[32m━━━━━━━━━━━━━━━━━━━━\u001b[0m\u001b[37m\u001b[0m \u001b[1m4s\u001b[0m 154ms/step - accuracy: 0.7600 - loss: 0.7717 - val_accuracy: 0.5862 - val_loss: 1.0927\n",
      "Epoch 81/300\n",
      "\u001b[1m29/29\u001b[0m \u001b[32m━━━━━━━━━━━━━━━━━━━━\u001b[0m\u001b[37m\u001b[0m \u001b[1m5s\u001b[0m 157ms/step - accuracy: 0.6514 - loss: 0.9735 - val_accuracy: 0.5517 - val_loss: 1.2174\n",
      "Epoch 82/300\n",
      "\u001b[1m29/29\u001b[0m \u001b[32m━━━━━━━━━━━━━━━━━━━━\u001b[0m\u001b[37m\u001b[0m \u001b[1m4s\u001b[0m 154ms/step - accuracy: 0.7781 - loss: 0.6875 - val_accuracy: 0.5172 - val_loss: 1.2302\n",
      "Epoch 83/300\n",
      "\u001b[1m29/29\u001b[0m \u001b[32m━━━━━━━━━━━━━━━━━━━━\u001b[0m\u001b[37m\u001b[0m \u001b[1m4s\u001b[0m 154ms/step - accuracy: 0.7272 - loss: 0.7896 - val_accuracy: 0.5517 - val_loss: 1.1674\n",
      "Epoch 84/300\n",
      "\u001b[1m29/29\u001b[0m \u001b[32m━━━━━━━━━━━━━━━━━━━━\u001b[0m\u001b[37m\u001b[0m \u001b[1m5s\u001b[0m 155ms/step - accuracy: 0.7764 - loss: 0.7340 - val_accuracy: 0.6897 - val_loss: 0.8372\n",
      "Epoch 85/300\n",
      "\u001b[1m29/29\u001b[0m \u001b[32m━━━━━━━━━━━━━━━━━━━━\u001b[0m\u001b[37m\u001b[0m \u001b[1m4s\u001b[0m 154ms/step - accuracy: 0.7794 - loss: 0.6322 - val_accuracy: 0.7586 - val_loss: 0.8128\n",
      "Epoch 86/300\n",
      "\u001b[1m29/29\u001b[0m \u001b[32m━━━━━━━━━━━━━━━━━━━━\u001b[0m\u001b[37m\u001b[0m \u001b[1m4s\u001b[0m 155ms/step - accuracy: 0.8190 - loss: 0.7542 - val_accuracy: 0.7241 - val_loss: 0.8389\n",
      "Epoch 87/300\n",
      "\u001b[1m29/29\u001b[0m \u001b[32m━━━━━━━━━━━━━━━━━━━━\u001b[0m\u001b[37m\u001b[0m \u001b[1m4s\u001b[0m 154ms/step - accuracy: 0.8316 - loss: 0.6022 - val_accuracy: 0.7241 - val_loss: 0.8314\n",
      "Epoch 88/300\n",
      "\u001b[1m29/29\u001b[0m \u001b[32m━━━━━━━━━━━━━━━━━━━━\u001b[0m\u001b[37m\u001b[0m \u001b[1m5s\u001b[0m 157ms/step - accuracy: 0.7271 - loss: 0.7509 - val_accuracy: 0.5517 - val_loss: 1.2112\n",
      "Epoch 89/300\n",
      "\u001b[1m29/29\u001b[0m \u001b[32m━━━━━━━━━━━━━━━━━━━━\u001b[0m\u001b[37m\u001b[0m \u001b[1m4s\u001b[0m 154ms/step - accuracy: 0.7046 - loss: 0.8672 - val_accuracy: 0.5862 - val_loss: 1.1489\n",
      "Epoch 90/300\n",
      "\u001b[1m29/29\u001b[0m \u001b[32m━━━━━━━━━━━━━━━━━━━━\u001b[0m\u001b[37m\u001b[0m \u001b[1m4s\u001b[0m 155ms/step - accuracy: 0.6174 - loss: 1.1339 - val_accuracy: 0.4828 - val_loss: 1.4823\n",
      "Epoch 91/300\n",
      "\u001b[1m29/29\u001b[0m \u001b[32m━━━━━━━━━━━━━━━━━━━━\u001b[0m\u001b[37m\u001b[0m \u001b[1m4s\u001b[0m 155ms/step - accuracy: 0.5839 - loss: 1.1947 - val_accuracy: 0.6207 - val_loss: 1.1016\n",
      "Epoch 92/300\n",
      "\u001b[1m29/29\u001b[0m \u001b[32m━━━━━━━━━━━━━━━━━━━━\u001b[0m\u001b[37m\u001b[0m \u001b[1m4s\u001b[0m 155ms/step - accuracy: 0.7128 - loss: 0.8795 - val_accuracy: 0.5172 - val_loss: 1.2954\n",
      "Epoch 93/300\n",
      "\u001b[1m29/29\u001b[0m \u001b[32m━━━━━━━━━━━━━━━━━━━━\u001b[0m\u001b[37m\u001b[0m \u001b[1m4s\u001b[0m 154ms/step - accuracy: 0.6977 - loss: 0.8852 - val_accuracy: 0.6552 - val_loss: 0.9154\n",
      "Epoch 94/300\n",
      "\u001b[1m29/29\u001b[0m \u001b[32m━━━━━━━━━━━━━━━━━━━━\u001b[0m\u001b[37m\u001b[0m \u001b[1m4s\u001b[0m 155ms/step - accuracy: 0.7593 - loss: 0.7460 - val_accuracy: 0.6207 - val_loss: 0.8560\n",
      "Epoch 95/300\n",
      "\u001b[1m29/29\u001b[0m \u001b[32m━━━━━━━━━━━━━━━━━━━━\u001b[0m\u001b[37m\u001b[0m \u001b[1m5s\u001b[0m 157ms/step - accuracy: 0.7422 - loss: 0.7968 - val_accuracy: 0.5862 - val_loss: 1.0159\n",
      "Epoch 96/300\n",
      "\u001b[1m29/29\u001b[0m \u001b[32m━━━━━━━━━━━━━━━━━━━━\u001b[0m\u001b[37m\u001b[0m \u001b[1m4s\u001b[0m 155ms/step - accuracy: 0.7314 - loss: 0.7073 - val_accuracy: 0.6897 - val_loss: 0.8041\n",
      "Epoch 97/300\n",
      "\u001b[1m29/29\u001b[0m \u001b[32m━━━━━━━━━━━━━━━━━━━━\u001b[0m\u001b[37m\u001b[0m \u001b[1m4s\u001b[0m 155ms/step - accuracy: 0.7584 - loss: 0.7670 - val_accuracy: 0.5862 - val_loss: 1.0691\n",
      "Epoch 98/300\n",
      "\u001b[1m29/29\u001b[0m \u001b[32m━━━━━━━━━━━━━━━━━━━━\u001b[0m\u001b[37m\u001b[0m \u001b[1m4s\u001b[0m 155ms/step - accuracy: 0.7196 - loss: 0.7730 - val_accuracy: 0.6897 - val_loss: 0.7881\n",
      "Epoch 99/300\n",
      "\u001b[1m29/29\u001b[0m \u001b[32m━━━━━━━━━━━━━━━━━━━━\u001b[0m\u001b[37m\u001b[0m \u001b[1m4s\u001b[0m 155ms/step - accuracy: 0.6856 - loss: 0.7197 - val_accuracy: 0.7241 - val_loss: 0.8091\n",
      "Epoch 100/300\n",
      "\u001b[1m29/29\u001b[0m \u001b[32m━━━━━━━━━━━━━━━━━━━━\u001b[0m\u001b[37m\u001b[0m \u001b[1m5s\u001b[0m 155ms/step - accuracy: 0.7732 - loss: 0.6412 - val_accuracy: 0.7241 - val_loss: 0.7707\n",
      "Epoch 101/300\n",
      "\u001b[1m29/29\u001b[0m \u001b[32m━━━━━━━━━━━━━━━━━━━━\u001b[0m\u001b[37m\u001b[0m \u001b[1m4s\u001b[0m 155ms/step - accuracy: 0.8328 - loss: 0.5295 - val_accuracy: 0.6897 - val_loss: 0.7252\n",
      "Epoch 102/300\n",
      "\u001b[1m29/29\u001b[0m \u001b[32m━━━━━━━━━━━━━━━━━━━━\u001b[0m\u001b[37m\u001b[0m \u001b[1m5s\u001b[0m 157ms/step - accuracy: 0.7685 - loss: 0.6044 - val_accuracy: 0.6897 - val_loss: 0.7951\n",
      "Epoch 103/300\n",
      "\u001b[1m29/29\u001b[0m \u001b[32m━━━━━━━━━━━━━━━━━━━━\u001b[0m\u001b[37m\u001b[0m \u001b[1m5s\u001b[0m 155ms/step - accuracy: 0.8099 - loss: 0.5134 - val_accuracy: 0.7586 - val_loss: 0.7023\n",
      "Epoch 104/300\n",
      "\u001b[1m29/29\u001b[0m \u001b[32m━━━━━━━━━━━━━━━━━━━━\u001b[0m\u001b[37m\u001b[0m \u001b[1m4s\u001b[0m 155ms/step - accuracy: 0.7343 - loss: 0.6869 - val_accuracy: 0.7241 - val_loss: 0.7134\n",
      "Epoch 105/300\n",
      "\u001b[1m29/29\u001b[0m \u001b[32m━━━━━━━━━━━━━━━━━━━━\u001b[0m\u001b[37m\u001b[0m \u001b[1m4s\u001b[0m 154ms/step - accuracy: 0.8224 - loss: 0.5993 - val_accuracy: 0.6552 - val_loss: 0.8007\n",
      "Epoch 106/300\n",
      "\u001b[1m29/29\u001b[0m \u001b[32m━━━━━━━━━━━━━━━━━━━━\u001b[0m\u001b[37m\u001b[0m \u001b[1m4s\u001b[0m 155ms/step - accuracy: 0.7741 - loss: 0.6464 - val_accuracy: 0.6552 - val_loss: 1.0800\n",
      "Epoch 107/300\n",
      "\u001b[1m29/29\u001b[0m \u001b[32m━━━━━━━━━━━━━━━━━━━━\u001b[0m\u001b[37m\u001b[0m \u001b[1m4s\u001b[0m 154ms/step - accuracy: 0.7483 - loss: 0.6995 - val_accuracy: 0.4483 - val_loss: 1.7150\n",
      "Epoch 108/300\n",
      "\u001b[1m29/29\u001b[0m \u001b[32m━━━━━━━━━━━━━━━━━━━━\u001b[0m\u001b[37m\u001b[0m \u001b[1m5s\u001b[0m 155ms/step - accuracy: 0.6430 - loss: 1.2727 - val_accuracy: 0.4828 - val_loss: 1.4778\n",
      "Epoch 109/300\n",
      "\u001b[1m29/29\u001b[0m \u001b[32m━━━━━━━━━━━━━━━━━━━━\u001b[0m\u001b[37m\u001b[0m \u001b[1m5s\u001b[0m 157ms/step - accuracy: 0.7551 - loss: 0.8419 - val_accuracy: 0.5517 - val_loss: 1.1414\n",
      "Epoch 110/300\n",
      "\u001b[1m29/29\u001b[0m \u001b[32m━━━━━━━━━━━━━━━━━━━━\u001b[0m\u001b[37m\u001b[0m \u001b[1m5s\u001b[0m 155ms/step - accuracy: 0.7550 - loss: 0.6834 - val_accuracy: 0.6552 - val_loss: 0.8749\n",
      "Epoch 111/300\n",
      "\u001b[1m29/29\u001b[0m \u001b[32m━━━━━━━━━━━━━━━━━━━━\u001b[0m\u001b[37m\u001b[0m \u001b[1m4s\u001b[0m 154ms/step - accuracy: 0.7254 - loss: 0.7250 - val_accuracy: 0.6552 - val_loss: 0.8113\n",
      "Epoch 112/300\n",
      "\u001b[1m29/29\u001b[0m \u001b[32m━━━━━━━━━━━━━━━━━━━━\u001b[0m\u001b[37m\u001b[0m \u001b[1m4s\u001b[0m 155ms/step - accuracy: 0.8907 - loss: 0.4778 - val_accuracy: 0.6552 - val_loss: 0.7898\n",
      "Epoch 113/300\n",
      "\u001b[1m29/29\u001b[0m \u001b[32m━━━━━━━━━━━━━━━━━━━━\u001b[0m\u001b[37m\u001b[0m \u001b[1m4s\u001b[0m 154ms/step - accuracy: 0.7882 - loss: 0.6032 - val_accuracy: 0.6552 - val_loss: 0.7976\n",
      "Epoch 114/300\n",
      "\u001b[1m29/29\u001b[0m \u001b[32m━━━━━━━━━━━━━━━━━━━━\u001b[0m\u001b[37m\u001b[0m \u001b[1m4s\u001b[0m 154ms/step - accuracy: 0.8284 - loss: 0.5383 - val_accuracy: 0.7241 - val_loss: 0.7910\n",
      "Epoch 115/300\n",
      "\u001b[1m29/29\u001b[0m \u001b[32m━━━━━━━━━━━━━━━━━━━━\u001b[0m\u001b[37m\u001b[0m \u001b[1m4s\u001b[0m 155ms/step - accuracy: 0.7580 - loss: 0.6147 - val_accuracy: 0.6897 - val_loss: 0.7418\n",
      "Epoch 116/300\n",
      "\u001b[1m29/29\u001b[0m \u001b[32m━━━━━━━━━━━━━━━━━━━━\u001b[0m\u001b[37m\u001b[0m \u001b[1m5s\u001b[0m 156ms/step - accuracy: 0.7604 - loss: 0.6565 - val_accuracy: 0.7241 - val_loss: 0.7004\n",
      "Epoch 117/300\n",
      "\u001b[1m29/29\u001b[0m \u001b[32m━━━━━━━━━━━━━━━━━━━━\u001b[0m\u001b[37m\u001b[0m \u001b[1m5s\u001b[0m 156ms/step - accuracy: 0.8137 - loss: 0.5571 - val_accuracy: 0.6897 - val_loss: 0.7496\n",
      "Epoch 118/300\n",
      "\u001b[1m29/29\u001b[0m \u001b[32m━━━━━━━━━━━━━━━━━━━━\u001b[0m\u001b[37m\u001b[0m \u001b[1m4s\u001b[0m 154ms/step - accuracy: 0.8454 - loss: 0.4289 - val_accuracy: 0.6897 - val_loss: 0.7417\n",
      "Epoch 119/300\n",
      "\u001b[1m29/29\u001b[0m \u001b[32m━━━━━━━━━━━━━━━━━━━━\u001b[0m\u001b[37m\u001b[0m \u001b[1m4s\u001b[0m 154ms/step - accuracy: 0.8233 - loss: 0.5140 - val_accuracy: 0.7241 - val_loss: 0.7177\n",
      "Epoch 120/300\n",
      "\u001b[1m29/29\u001b[0m \u001b[32m━━━━━━━━━━━━━━━━━━━━\u001b[0m\u001b[37m\u001b[0m \u001b[1m4s\u001b[0m 154ms/step - accuracy: 0.8848 - loss: 0.4064 - val_accuracy: 0.7586 - val_loss: 0.7153\n",
      "Epoch 121/300\n",
      "\u001b[1m29/29\u001b[0m \u001b[32m━━━━━━━━━━━━━━━━━━━━\u001b[0m\u001b[37m\u001b[0m \u001b[1m5s\u001b[0m 155ms/step - accuracy: 0.8888 - loss: 0.5207 - val_accuracy: 0.7241 - val_loss: 0.7357\n",
      "Epoch 122/300\n",
      "\u001b[1m29/29\u001b[0m \u001b[32m━━━━━━━━━━━━━━━━━━━━\u001b[0m\u001b[37m\u001b[0m \u001b[1m4s\u001b[0m 155ms/step - accuracy: 0.8743 - loss: 0.4494 - val_accuracy: 0.7241 - val_loss: 0.7189\n",
      "Epoch 123/300\n",
      "\u001b[1m29/29\u001b[0m \u001b[32m━━━━━━━━━━━━━━━━━━━━\u001b[0m\u001b[37m\u001b[0m \u001b[1m5s\u001b[0m 157ms/step - accuracy: 0.8714 - loss: 0.4281 - val_accuracy: 0.7241 - val_loss: 0.7307\n",
      "Epoch 124/300\n",
      "\u001b[1m29/29\u001b[0m \u001b[32m━━━━━━━━━━━━━━━━━━━━\u001b[0m\u001b[37m\u001b[0m \u001b[1m5s\u001b[0m 155ms/step - accuracy: 0.8191 - loss: 0.4995 - val_accuracy: 0.7241 - val_loss: 0.7333\n",
      "Epoch 125/300\n",
      "\u001b[1m29/29\u001b[0m \u001b[32m━━━━━━━━━━━━━━━━━━━━\u001b[0m\u001b[37m\u001b[0m \u001b[1m4s\u001b[0m 155ms/step - accuracy: 0.8659 - loss: 0.3992 - val_accuracy: 0.7586 - val_loss: 0.7179\n",
      "Epoch 126/300\n",
      "\u001b[1m29/29\u001b[0m \u001b[32m━━━━━━━━━━━━━━━━━━━━\u001b[0m\u001b[37m\u001b[0m \u001b[1m4s\u001b[0m 155ms/step - accuracy: 0.8432 - loss: 0.4518 - val_accuracy: 0.7586 - val_loss: 0.7352\n",
      "Epoch 127/300\n",
      "\u001b[1m29/29\u001b[0m \u001b[32m━━━━━━━━━━━━━━━━━━━━\u001b[0m\u001b[37m\u001b[0m \u001b[1m4s\u001b[0m 154ms/step - accuracy: 0.8875 - loss: 0.4149 - val_accuracy: 0.7241 - val_loss: 0.7558\n",
      "Epoch 128/300\n",
      "\u001b[1m29/29\u001b[0m \u001b[32m━━━━━━━━━━━━━━━━━━━━\u001b[0m\u001b[37m\u001b[0m \u001b[1m4s\u001b[0m 155ms/step - accuracy: 0.9163 - loss: 0.3428 - val_accuracy: 0.7586 - val_loss: 0.7255\n",
      "Epoch 129/300\n",
      "\u001b[1m29/29\u001b[0m \u001b[32m━━━━━━━━━━━━━━━━━━━━\u001b[0m\u001b[37m\u001b[0m \u001b[1m4s\u001b[0m 154ms/step - accuracy: 0.7796 - loss: 0.6340 - val_accuracy: 0.7586 - val_loss: 0.7426\n",
      "Epoch 130/300\n",
      "\u001b[1m29/29\u001b[0m \u001b[32m━━━━━━━━━━━━━━━━━━━━\u001b[0m\u001b[37m\u001b[0m \u001b[1m5s\u001b[0m 155ms/step - accuracy: 0.7863 - loss: 0.4747 - val_accuracy: 0.7241 - val_loss: 0.7795\n",
      "Epoch 131/300\n",
      "\u001b[1m29/29\u001b[0m \u001b[32m━━━━━━━━━━━━━━━━━━━━\u001b[0m\u001b[37m\u001b[0m \u001b[1m5s\u001b[0m 156ms/step - accuracy: 0.8844 - loss: 0.3771 - val_accuracy: 0.6897 - val_loss: 1.1467\n",
      "Epoch 132/300\n",
      "\u001b[1m29/29\u001b[0m \u001b[32m━━━━━━━━━━━━━━━━━━━━\u001b[0m\u001b[37m\u001b[0m \u001b[1m4s\u001b[0m 155ms/step - accuracy: 0.7360 - loss: 0.9580 - val_accuracy: 0.6897 - val_loss: 0.8756\n",
      "Epoch 133/300\n",
      "\u001b[1m29/29\u001b[0m \u001b[32m━━━━━━━━━━━━━━━━━━━━\u001b[0m\u001b[37m\u001b[0m \u001b[1m4s\u001b[0m 154ms/step - accuracy: 0.8283 - loss: 0.5988 - val_accuracy: 0.5862 - val_loss: 0.9981\n",
      "Epoch 134/300\n",
      "\u001b[1m29/29\u001b[0m \u001b[32m━━━━━━━━━━━━━━━━━━━━\u001b[0m\u001b[37m\u001b[0m \u001b[1m4s\u001b[0m 154ms/step - accuracy: 0.7669 - loss: 0.5200 - val_accuracy: 0.6552 - val_loss: 0.7266\n",
      "Epoch 135/300\n",
      "\u001b[1m29/29\u001b[0m \u001b[32m━━━━━━━━━━━━━━━━━━━━\u001b[0m\u001b[37m\u001b[0m \u001b[1m4s\u001b[0m 154ms/step - accuracy: 0.8808 - loss: 0.4079 - val_accuracy: 0.6897 - val_loss: 0.7066\n",
      "Epoch 136/300\n",
      "\u001b[1m29/29\u001b[0m \u001b[32m━━━━━━━━━━━━━━━━━━━━\u001b[0m\u001b[37m\u001b[0m \u001b[1m4s\u001b[0m 154ms/step - accuracy: 0.9053 - loss: 0.3982 - val_accuracy: 0.7241 - val_loss: 0.7311\n",
      "Epoch 137/300\n",
      "\u001b[1m29/29\u001b[0m \u001b[32m━━━━━━━━━━━━━━━━━━━━\u001b[0m\u001b[37m\u001b[0m \u001b[1m5s\u001b[0m 156ms/step - accuracy: 0.8929 - loss: 0.3218 - val_accuracy: 0.6207 - val_loss: 0.9163\n",
      "Epoch 138/300\n",
      "\u001b[1m29/29\u001b[0m \u001b[32m━━━━━━━━━━━━━━━━━━━━\u001b[0m\u001b[37m\u001b[0m \u001b[1m5s\u001b[0m 156ms/step - accuracy: 0.8818 - loss: 0.3356 - val_accuracy: 0.6897 - val_loss: 0.8497\n",
      "Epoch 139/300\n",
      "\u001b[1m29/29\u001b[0m \u001b[32m━━━━━━━━━━━━━━━━━━━━\u001b[0m\u001b[37m\u001b[0m \u001b[1m5s\u001b[0m 156ms/step - accuracy: 0.9129 - loss: 0.3073 - val_accuracy: 0.7586 - val_loss: 0.7612\n",
      "Epoch 140/300\n",
      "\u001b[1m29/29\u001b[0m \u001b[32m━━━━━━━━━━━━━━━━━━━━\u001b[0m\u001b[37m\u001b[0m \u001b[1m5s\u001b[0m 155ms/step - accuracy: 0.8487 - loss: 0.4631 - val_accuracy: 0.6897 - val_loss: 0.8998\n",
      "Epoch 141/300\n",
      "\u001b[1m29/29\u001b[0m \u001b[32m━━━━━━━━━━━━━━━━━━━━\u001b[0m\u001b[37m\u001b[0m \u001b[1m5s\u001b[0m 155ms/step - accuracy: 0.9318 - loss: 0.3439 - val_accuracy: 0.6897 - val_loss: 0.9686\n",
      "Epoch 142/300\n",
      "\u001b[1m29/29\u001b[0m \u001b[32m━━━━━━━━━━━━━━━━━━━━\u001b[0m\u001b[37m\u001b[0m \u001b[1m4s\u001b[0m 155ms/step - accuracy: 0.7660 - loss: 0.7378 - val_accuracy: 0.6552 - val_loss: 0.9126\n",
      "Epoch 143/300\n",
      "\u001b[1m29/29\u001b[0m \u001b[32m━━━━━━━━━━━━━━━━━━━━\u001b[0m\u001b[37m\u001b[0m \u001b[1m5s\u001b[0m 155ms/step - accuracy: 0.7733 - loss: 0.7051 - val_accuracy: 0.7241 - val_loss: 0.7274\n",
      "Epoch 144/300\n",
      "\u001b[1m29/29\u001b[0m \u001b[32m━━━━━━━━━━━━━━━━━━━━\u001b[0m\u001b[37m\u001b[0m \u001b[1m5s\u001b[0m 155ms/step - accuracy: 0.8363 - loss: 0.3999 - val_accuracy: 0.7931 - val_loss: 0.7525\n",
      "Epoch 145/300\n",
      "\u001b[1m29/29\u001b[0m \u001b[32m━━━━━━━━━━━━━━━━━━━━\u001b[0m\u001b[37m\u001b[0m \u001b[1m5s\u001b[0m 156ms/step - accuracy: 0.8975 - loss: 0.3365 - val_accuracy: 0.7586 - val_loss: 0.7267\n",
      "Epoch 146/300\n",
      "\u001b[1m29/29\u001b[0m \u001b[32m━━━━━━━━━━━━━━━━━━━━\u001b[0m\u001b[37m\u001b[0m \u001b[1m5s\u001b[0m 155ms/step - accuracy: 0.9034 - loss: 0.3365 - val_accuracy: 0.7241 - val_loss: 0.8425\n",
      "Epoch 147/300\n",
      "\u001b[1m29/29\u001b[0m \u001b[32m━━━━━━━━━━━━━━━━━━━━\u001b[0m\u001b[37m\u001b[0m \u001b[1m4s\u001b[0m 154ms/step - accuracy: 0.9283 - loss: 0.3769 - val_accuracy: 0.7586 - val_loss: 0.7831\n",
      "Epoch 148/300\n",
      "\u001b[1m29/29\u001b[0m \u001b[32m━━━━━━━━━━━━━━━━━━━━\u001b[0m\u001b[37m\u001b[0m \u001b[1m5s\u001b[0m 155ms/step - accuracy: 0.8708 - loss: 0.3661 - val_accuracy: 0.7586 - val_loss: 0.8204\n",
      "Epoch 149/300\n",
      "\u001b[1m29/29\u001b[0m \u001b[32m━━━━━━━━━━━━━━━━━━━━\u001b[0m\u001b[37m\u001b[0m \u001b[1m4s\u001b[0m 155ms/step - accuracy: 0.8677 - loss: 0.3753 - val_accuracy: 0.7586 - val_loss: 0.7613\n",
      "Epoch 150/300\n",
      "\u001b[1m29/29\u001b[0m \u001b[32m━━━━━━━━━━━━━━━━━━━━\u001b[0m\u001b[37m\u001b[0m \u001b[1m5s\u001b[0m 155ms/step - accuracy: 0.8779 - loss: 0.3530 - val_accuracy: 0.7931 - val_loss: 0.7846\n",
      "Epoch 151/300\n",
      "\u001b[1m29/29\u001b[0m \u001b[32m━━━━━━━━━━━━━━━━━━━━\u001b[0m\u001b[37m\u001b[0m \u001b[1m4s\u001b[0m 154ms/step - accuracy: 0.9144 - loss: 0.3097 - val_accuracy: 0.7586 - val_loss: 0.7699\n",
      "Epoch 152/300\n",
      "\u001b[1m29/29\u001b[0m \u001b[32m━━━━━━━━━━━━━━━━━━━━\u001b[0m\u001b[37m\u001b[0m \u001b[1m5s\u001b[0m 157ms/step - accuracy: 0.9597 - loss: 0.2354 - val_accuracy: 0.7586 - val_loss: 0.7904\n",
      "Epoch 153/300\n",
      "\u001b[1m29/29\u001b[0m \u001b[32m━━━━━━━━━━━━━━━━━━━━\u001b[0m\u001b[37m\u001b[0m \u001b[1m5s\u001b[0m 155ms/step - accuracy: 0.9017 - loss: 0.3593 - val_accuracy: 0.7241 - val_loss: 0.8159\n",
      "Epoch 154/300\n",
      "\u001b[1m29/29\u001b[0m \u001b[32m━━━━━━━━━━━━━━━━━━━━\u001b[0m\u001b[37m\u001b[0m \u001b[1m5s\u001b[0m 155ms/step - accuracy: 0.9455 - loss: 0.2837 - val_accuracy: 0.7586 - val_loss: 0.8248\n",
      "Epoch 155/300\n",
      "\u001b[1m29/29\u001b[0m \u001b[32m━━━━━━━━━━━━━━━━━━━━\u001b[0m\u001b[37m\u001b[0m \u001b[1m5s\u001b[0m 155ms/step - accuracy: 0.8995 - loss: 0.2993 - val_accuracy: 0.7586 - val_loss: 0.8022\n",
      "Epoch 156/300\n",
      "\u001b[1m29/29\u001b[0m \u001b[32m━━━━━━━━━━━━━━━━━━━━\u001b[0m\u001b[37m\u001b[0m \u001b[1m4s\u001b[0m 155ms/step - accuracy: 0.9583 - loss: 0.2811 - val_accuracy: 0.7241 - val_loss: 0.8265\n",
      "Epoch 157/300\n",
      "\u001b[1m29/29\u001b[0m \u001b[32m━━━━━━━━━━━━━━━━━━━━\u001b[0m\u001b[37m\u001b[0m \u001b[1m5s\u001b[0m 155ms/step - accuracy: 0.9025 - loss: 0.3575 - val_accuracy: 0.7931 - val_loss: 0.7897\n",
      "Epoch 158/300\n",
      "\u001b[1m29/29\u001b[0m \u001b[32m━━━━━━━━━━━━━━━━━━━━\u001b[0m\u001b[37m\u001b[0m \u001b[1m4s\u001b[0m 155ms/step - accuracy: 0.9755 - loss: 0.2259 - val_accuracy: 0.7586 - val_loss: 0.8100\n",
      "Epoch 159/300\n",
      "\u001b[1m29/29\u001b[0m \u001b[32m━━━━━━━━━━━━━━━━━━━━\u001b[0m\u001b[37m\u001b[0m \u001b[1m5s\u001b[0m 157ms/step - accuracy: 0.9050 - loss: 0.3068 - val_accuracy: 0.7586 - val_loss: 0.8058\n",
      "Epoch 160/300\n",
      "\u001b[1m29/29\u001b[0m \u001b[32m━━━━━━━━━━━━━━━━━━━━\u001b[0m\u001b[37m\u001b[0m \u001b[1m4s\u001b[0m 155ms/step - accuracy: 0.9045 - loss: 0.2883 - val_accuracy: 0.7586 - val_loss: 0.8263\n",
      "Epoch 161/300\n",
      "\u001b[1m29/29\u001b[0m \u001b[32m━━━━━━━━━━━━━━━━━━━━\u001b[0m\u001b[37m\u001b[0m \u001b[1m5s\u001b[0m 156ms/step - accuracy: 0.8925 - loss: 0.3309 - val_accuracy: 0.6897 - val_loss: 0.9142\n",
      "Epoch 162/300\n",
      "\u001b[1m29/29\u001b[0m \u001b[32m━━━━━━━━━━━━━━━━━━━━\u001b[0m\u001b[37m\u001b[0m \u001b[1m4s\u001b[0m 155ms/step - accuracy: 0.8772 - loss: 0.3924 - val_accuracy: 0.6207 - val_loss: 1.0379\n",
      "Epoch 163/300\n",
      "\u001b[1m29/29\u001b[0m \u001b[32m━━━━━━━━━━━━━━━━━━━━\u001b[0m\u001b[37m\u001b[0m \u001b[1m4s\u001b[0m 155ms/step - accuracy: 0.8534 - loss: 0.3903 - val_accuracy: 0.7241 - val_loss: 0.8898\n",
      "Epoch 164/300\n",
      "\u001b[1m29/29\u001b[0m \u001b[32m━━━━━━━━━━━━━━━━━━━━\u001b[0m\u001b[37m\u001b[0m \u001b[1m4s\u001b[0m 155ms/step - accuracy: 0.9344 - loss: 0.2312 - val_accuracy: 0.7586 - val_loss: 0.8244\n",
      "Epoch 165/300\n",
      "\u001b[1m29/29\u001b[0m \u001b[32m━━━━━━━━━━━━━━━━━━━━\u001b[0m\u001b[37m\u001b[0m \u001b[1m4s\u001b[0m 155ms/step - accuracy: 0.9591 - loss: 0.2879 - val_accuracy: 0.6897 - val_loss: 0.9369\n",
      "Epoch 166/300\n",
      "\u001b[1m29/29\u001b[0m \u001b[32m━━━━━━━━━━━━━━━━━━━━\u001b[0m\u001b[37m\u001b[0m \u001b[1m5s\u001b[0m 157ms/step - accuracy: 0.9386 - loss: 0.2234 - val_accuracy: 0.7586 - val_loss: 0.8589\n",
      "Epoch 167/300\n",
      "\u001b[1m29/29\u001b[0m \u001b[32m━━━━━━━━━━━━━━━━━━━━\u001b[0m\u001b[37m\u001b[0m \u001b[1m5s\u001b[0m 155ms/step - accuracy: 0.9481 - loss: 0.2204 - val_accuracy: 0.7586 - val_loss: 0.8706\n",
      "Epoch 168/300\n",
      "\u001b[1m29/29\u001b[0m \u001b[32m━━━━━━━━━━━━━━━━━━━━\u001b[0m\u001b[37m\u001b[0m \u001b[1m5s\u001b[0m 156ms/step - accuracy: 0.9569 - loss: 0.2365 - val_accuracy: 0.6207 - val_loss: 1.2996\n",
      "Epoch 169/300\n",
      "\u001b[1m29/29\u001b[0m \u001b[32m━━━━━━━━━━━━━━━━━━━━\u001b[0m\u001b[37m\u001b[0m \u001b[1m4s\u001b[0m 155ms/step - accuracy: 0.8924 - loss: 0.5110 - val_accuracy: 0.7586 - val_loss: 0.9436\n",
      "Epoch 170/300\n",
      "\u001b[1m29/29\u001b[0m \u001b[32m━━━━━━━━━━━━━━━━━━━━\u001b[0m\u001b[37m\u001b[0m \u001b[1m5s\u001b[0m 155ms/step - accuracy: 0.8345 - loss: 0.5433 - val_accuracy: 0.7586 - val_loss: 0.9803\n",
      "Epoch 171/300\n",
      "\u001b[1m29/29\u001b[0m \u001b[32m━━━━━━━━━━━━━━━━━━━━\u001b[0m\u001b[37m\u001b[0m \u001b[1m5s\u001b[0m 155ms/step - accuracy: 0.9677 - loss: 0.1518 - val_accuracy: 0.7586 - val_loss: 0.7955\n",
      "Epoch 172/300\n",
      "\u001b[1m29/29\u001b[0m \u001b[32m━━━━━━━━━━━━━━━━━━━━\u001b[0m\u001b[37m\u001b[0m \u001b[1m5s\u001b[0m 155ms/step - accuracy: 0.9229 - loss: 0.2383 - val_accuracy: 0.7586 - val_loss: 0.8693\n",
      "Epoch 173/300\n",
      "\u001b[1m29/29\u001b[0m \u001b[32m━━━━━━━━━━━━━━━━━━━━\u001b[0m\u001b[37m\u001b[0m \u001b[1m5s\u001b[0m 156ms/step - accuracy: 0.9492 - loss: 0.2139 - val_accuracy: 0.7586 - val_loss: 1.0077\n",
      "Epoch 174/300\n",
      "\u001b[1m29/29\u001b[0m \u001b[32m━━━━━━━━━━━━━━━━━━━━\u001b[0m\u001b[37m\u001b[0m \u001b[1m5s\u001b[0m 155ms/step - accuracy: 0.9436 - loss: 0.1944 - val_accuracy: 0.7586 - val_loss: 0.8825\n",
      "Epoch 175/300\n",
      "\u001b[1m29/29\u001b[0m \u001b[32m━━━━━━━━━━━━━━━━━━━━\u001b[0m\u001b[37m\u001b[0m \u001b[1m5s\u001b[0m 156ms/step - accuracy: 0.9628 - loss: 0.1954 - val_accuracy: 0.7931 - val_loss: 0.8539\n",
      "Epoch 176/300\n",
      "\u001b[1m29/29\u001b[0m \u001b[32m━━━━━━━━━━━━━━━━━━━━\u001b[0m\u001b[37m\u001b[0m \u001b[1m4s\u001b[0m 155ms/step - accuracy: 0.9383 - loss: 0.2079 - val_accuracy: 0.7931 - val_loss: 0.8256\n",
      "Epoch 177/300\n",
      "\u001b[1m29/29\u001b[0m \u001b[32m━━━━━━━━━━━━━━━━━━━━\u001b[0m\u001b[37m\u001b[0m \u001b[1m5s\u001b[0m 155ms/step - accuracy: 0.9152 - loss: 0.3655 - val_accuracy: 0.7586 - val_loss: 0.8125\n",
      "Epoch 178/300\n",
      "\u001b[1m29/29\u001b[0m \u001b[32m━━━━━━━━━━━━━━━━━━━━\u001b[0m\u001b[37m\u001b[0m \u001b[1m5s\u001b[0m 155ms/step - accuracy: 0.8699 - loss: 0.4303 - val_accuracy: 0.7586 - val_loss: 0.7350\n",
      "Epoch 179/300\n",
      "\u001b[1m29/29\u001b[0m \u001b[32m━━━━━━━━━━━━━━━━━━━━\u001b[0m\u001b[37m\u001b[0m \u001b[1m5s\u001b[0m 155ms/step - accuracy: 0.9474 - loss: 0.1757 - val_accuracy: 0.7586 - val_loss: 0.7516\n",
      "Epoch 180/300\n",
      "\u001b[1m29/29\u001b[0m \u001b[32m━━━━━━━━━━━━━━━━━━━━\u001b[0m\u001b[37m\u001b[0m \u001b[1m5s\u001b[0m 157ms/step - accuracy: 0.9684 - loss: 0.1727 - val_accuracy: 0.7241 - val_loss: 0.8288\n",
      "Epoch 181/300\n",
      "\u001b[1m29/29\u001b[0m \u001b[32m━━━━━━━━━━━━━━━━━━━━\u001b[0m\u001b[37m\u001b[0m \u001b[1m5s\u001b[0m 155ms/step - accuracy: 0.9565 - loss: 0.1535 - val_accuracy: 0.7931 - val_loss: 0.6726\n",
      "Epoch 182/300\n",
      "\u001b[1m29/29\u001b[0m \u001b[32m━━━━━━━━━━━━━━━━━━━━\u001b[0m\u001b[37m\u001b[0m \u001b[1m5s\u001b[0m 155ms/step - accuracy: 0.9666 - loss: 0.1599 - val_accuracy: 0.7241 - val_loss: 0.9469\n",
      "Epoch 183/300\n",
      "\u001b[1m29/29\u001b[0m \u001b[32m━━━━━━━━━━━━━━━━━━━━\u001b[0m\u001b[37m\u001b[0m \u001b[1m5s\u001b[0m 155ms/step - accuracy: 0.9918 - loss: 0.1287 - val_accuracy: 0.7241 - val_loss: 0.8825\n",
      "Epoch 184/300\n",
      "\u001b[1m29/29\u001b[0m \u001b[32m━━━━━━━━━━━━━━━━━━━━\u001b[0m\u001b[37m\u001b[0m \u001b[1m4s\u001b[0m 155ms/step - accuracy: 0.9893 - loss: 0.1329 - val_accuracy: 0.7586 - val_loss: 0.9453\n",
      "Epoch 185/300\n",
      "\u001b[1m29/29\u001b[0m \u001b[32m━━━━━━━━━━━━━━━━━━━━\u001b[0m\u001b[37m\u001b[0m \u001b[1m5s\u001b[0m 155ms/step - accuracy: 0.9333 - loss: 0.2708 - val_accuracy: 0.7241 - val_loss: 0.9215\n",
      "Epoch 186/300\n",
      "\u001b[1m29/29\u001b[0m \u001b[32m━━━━━━━━━━━━━━━━━━━━\u001b[0m\u001b[37m\u001b[0m \u001b[1m4s\u001b[0m 155ms/step - accuracy: 0.8418 - loss: 0.6832 - val_accuracy: 0.6897 - val_loss: 1.0815\n",
      "Epoch 187/300\n",
      "\u001b[1m17/29\u001b[0m \u001b[32m━━━━━━━━━━━\u001b[0m\u001b[37m━━━━━━━━━\u001b[0m \u001b[1m1s\u001b[0m 149ms/step - accuracy: 0.8485 - loss: 0.4626"
     ]
    },
    {
     "ename": "KeyboardInterrupt",
     "evalue": "",
     "output_type": "error",
     "traceback": [
      "\u001b[0;31m---------------------------------------------------------------------------\u001b[0m",
      "\u001b[0;31mKeyboardInterrupt\u001b[0m                         Traceback (most recent call last)",
      "\u001b[0;32m/tmp/ipykernel_35/463851812.py\u001b[0m in \u001b[0;36m<cell line: 0>\u001b[0;34m()\u001b[0m\n\u001b[0;32m----> 1\u001b[0;31m \u001b[0mhistory\u001b[0m \u001b[0;34m=\u001b[0m \u001b[0mmodel\u001b[0m\u001b[0;34m.\u001b[0m\u001b[0mfit\u001b[0m\u001b[0;34m(\u001b[0m\u001b[0mx_train\u001b[0m\u001b[0;34m,\u001b[0m \u001b[0my_train_encoded\u001b[0m\u001b[0;34m,\u001b[0m \u001b[0mvalidation_data\u001b[0m\u001b[0;34m=\u001b[0m\u001b[0;34m(\u001b[0m\u001b[0mx_test\u001b[0m\u001b[0;34m,\u001b[0m \u001b[0my_test_encoded\u001b[0m\u001b[0;34m)\u001b[0m\u001b[0;34m,\u001b[0m \u001b[0mepochs\u001b[0m\u001b[0;34m=\u001b[0m\u001b[0;36m300\u001b[0m\u001b[0;34m,\u001b[0m \u001b[0mbatch_size\u001b[0m\u001b[0;34m=\u001b[0m\u001b[0;36m4\u001b[0m\u001b[0;34m,\u001b[0m \u001b[0mshuffle\u001b[0m\u001b[0;34m=\u001b[0m\u001b[0;32mTrue\u001b[0m\u001b[0;34m)\u001b[0m\u001b[0;34m\u001b[0m\u001b[0;34m\u001b[0m\u001b[0m\n\u001b[0m\u001b[1;32m      2\u001b[0m \u001b[0;34m\u001b[0m\u001b[0m\n\u001b[1;32m      3\u001b[0m \u001b[0mloss\u001b[0m\u001b[0;34m,\u001b[0m \u001b[0maccuracy\u001b[0m \u001b[0;34m=\u001b[0m \u001b[0mmodel\u001b[0m\u001b[0;34m.\u001b[0m\u001b[0mevaluate\u001b[0m\u001b[0;34m(\u001b[0m\u001b[0mx_test\u001b[0m\u001b[0;34m,\u001b[0m \u001b[0my_test_encoded\u001b[0m\u001b[0;34m)\u001b[0m\u001b[0;34m\u001b[0m\u001b[0;34m\u001b[0m\u001b[0m\n\u001b[1;32m      4\u001b[0m \u001b[0mprint\u001b[0m\u001b[0;34m(\u001b[0m\u001b[0;34m'Test Loss:'\u001b[0m\u001b[0;34m,\u001b[0m \u001b[0mloss\u001b[0m\u001b[0;34m)\u001b[0m\u001b[0;34m\u001b[0m\u001b[0;34m\u001b[0m\u001b[0m\n\u001b[1;32m      5\u001b[0m \u001b[0mprint\u001b[0m\u001b[0;34m(\u001b[0m\u001b[0;34m'Test Accuracy:'\u001b[0m\u001b[0;34m,\u001b[0m \u001b[0maccuracy\u001b[0m\u001b[0;34m)\u001b[0m\u001b[0;34m\u001b[0m\u001b[0;34m\u001b[0m\u001b[0m\n",
      "\u001b[0;32m/usr/local/lib/python3.11/dist-packages/keras/src/utils/traceback_utils.py\u001b[0m in \u001b[0;36merror_handler\u001b[0;34m(*args, **kwargs)\u001b[0m\n\u001b[1;32m    115\u001b[0m         \u001b[0mfiltered_tb\u001b[0m \u001b[0;34m=\u001b[0m \u001b[0;32mNone\u001b[0m\u001b[0;34m\u001b[0m\u001b[0;34m\u001b[0m\u001b[0m\n\u001b[1;32m    116\u001b[0m         \u001b[0;32mtry\u001b[0m\u001b[0;34m:\u001b[0m\u001b[0;34m\u001b[0m\u001b[0;34m\u001b[0m\u001b[0m\n\u001b[0;32m--> 117\u001b[0;31m             \u001b[0;32mreturn\u001b[0m \u001b[0mfn\u001b[0m\u001b[0;34m(\u001b[0m\u001b[0;34m*\u001b[0m\u001b[0margs\u001b[0m\u001b[0;34m,\u001b[0m \u001b[0;34m**\u001b[0m\u001b[0mkwargs\u001b[0m\u001b[0;34m)\u001b[0m\u001b[0;34m\u001b[0m\u001b[0;34m\u001b[0m\u001b[0m\n\u001b[0m\u001b[1;32m    118\u001b[0m         \u001b[0;32mexcept\u001b[0m \u001b[0mException\u001b[0m \u001b[0;32mas\u001b[0m \u001b[0me\u001b[0m\u001b[0;34m:\u001b[0m\u001b[0;34m\u001b[0m\u001b[0;34m\u001b[0m\u001b[0m\n\u001b[1;32m    119\u001b[0m             \u001b[0mfiltered_tb\u001b[0m \u001b[0;34m=\u001b[0m \u001b[0m_process_traceback_frames\u001b[0m\u001b[0;34m(\u001b[0m\u001b[0me\u001b[0m\u001b[0;34m.\u001b[0m\u001b[0m__traceback__\u001b[0m\u001b[0;34m)\u001b[0m\u001b[0;34m\u001b[0m\u001b[0;34m\u001b[0m\u001b[0m\n",
      "\u001b[0;32m/usr/local/lib/python3.11/dist-packages/keras/src/backend/tensorflow/trainer.py\u001b[0m in \u001b[0;36mfit\u001b[0;34m(self, x, y, batch_size, epochs, verbose, callbacks, validation_split, validation_data, shuffle, class_weight, sample_weight, initial_epoch, steps_per_epoch, validation_steps, validation_batch_size, validation_freq)\u001b[0m\n\u001b[1;32m    369\u001b[0m                 \u001b[0;32mfor\u001b[0m \u001b[0mstep\u001b[0m\u001b[0;34m,\u001b[0m \u001b[0miterator\u001b[0m \u001b[0;32min\u001b[0m \u001b[0mepoch_iterator\u001b[0m\u001b[0;34m:\u001b[0m\u001b[0;34m\u001b[0m\u001b[0;34m\u001b[0m\u001b[0m\n\u001b[1;32m    370\u001b[0m                     \u001b[0mcallbacks\u001b[0m\u001b[0;34m.\u001b[0m\u001b[0mon_train_batch_begin\u001b[0m\u001b[0;34m(\u001b[0m\u001b[0mstep\u001b[0m\u001b[0;34m)\u001b[0m\u001b[0;34m\u001b[0m\u001b[0;34m\u001b[0m\u001b[0m\n\u001b[0;32m--> 371\u001b[0;31m                     \u001b[0mlogs\u001b[0m \u001b[0;34m=\u001b[0m \u001b[0mself\u001b[0m\u001b[0;34m.\u001b[0m\u001b[0mtrain_function\u001b[0m\u001b[0;34m(\u001b[0m\u001b[0miterator\u001b[0m\u001b[0;34m)\u001b[0m\u001b[0;34m\u001b[0m\u001b[0;34m\u001b[0m\u001b[0m\n\u001b[0m\u001b[1;32m    372\u001b[0m                     \u001b[0mcallbacks\u001b[0m\u001b[0;34m.\u001b[0m\u001b[0mon_train_batch_end\u001b[0m\u001b[0;34m(\u001b[0m\u001b[0mstep\u001b[0m\u001b[0;34m,\u001b[0m \u001b[0mlogs\u001b[0m\u001b[0;34m)\u001b[0m\u001b[0;34m\u001b[0m\u001b[0;34m\u001b[0m\u001b[0m\n\u001b[1;32m    373\u001b[0m                     \u001b[0;32mif\u001b[0m \u001b[0mself\u001b[0m\u001b[0;34m.\u001b[0m\u001b[0mstop_training\u001b[0m\u001b[0;34m:\u001b[0m\u001b[0;34m\u001b[0m\u001b[0;34m\u001b[0m\u001b[0m\n",
      "\u001b[0;32m/usr/local/lib/python3.11/dist-packages/keras/src/backend/tensorflow/trainer.py\u001b[0m in \u001b[0;36mfunction\u001b[0;34m(iterator)\u001b[0m\n\u001b[1;32m    218\u001b[0m             ):\n\u001b[1;32m    219\u001b[0m                 \u001b[0mopt_outputs\u001b[0m \u001b[0;34m=\u001b[0m \u001b[0mmulti_step_on_iterator\u001b[0m\u001b[0;34m(\u001b[0m\u001b[0miterator\u001b[0m\u001b[0;34m)\u001b[0m\u001b[0;34m\u001b[0m\u001b[0;34m\u001b[0m\u001b[0m\n\u001b[0;32m--> 220\u001b[0;31m                 \u001b[0;32mif\u001b[0m \u001b[0;32mnot\u001b[0m \u001b[0mopt_outputs\u001b[0m\u001b[0;34m.\u001b[0m\u001b[0mhas_value\u001b[0m\u001b[0;34m(\u001b[0m\u001b[0;34m)\u001b[0m\u001b[0;34m:\u001b[0m\u001b[0;34m\u001b[0m\u001b[0;34m\u001b[0m\u001b[0m\n\u001b[0m\u001b[1;32m    221\u001b[0m                     \u001b[0;32mraise\u001b[0m \u001b[0mStopIteration\u001b[0m\u001b[0;34m\u001b[0m\u001b[0;34m\u001b[0m\u001b[0m\n\u001b[1;32m    222\u001b[0m                 \u001b[0;32mreturn\u001b[0m \u001b[0mopt_outputs\u001b[0m\u001b[0;34m.\u001b[0m\u001b[0mget_value\u001b[0m\u001b[0;34m(\u001b[0m\u001b[0;34m)\u001b[0m\u001b[0;34m\u001b[0m\u001b[0;34m\u001b[0m\u001b[0m\n",
      "\u001b[0;32m/usr/local/lib/python3.11/dist-packages/tensorflow/python/data/ops/optional_ops.py\u001b[0m in \u001b[0;36mhas_value\u001b[0;34m(self, name)\u001b[0m\n\u001b[1;32m    174\u001b[0m   \u001b[0;32mdef\u001b[0m \u001b[0mhas_value\u001b[0m\u001b[0;34m(\u001b[0m\u001b[0mself\u001b[0m\u001b[0;34m,\u001b[0m \u001b[0mname\u001b[0m\u001b[0;34m=\u001b[0m\u001b[0;32mNone\u001b[0m\u001b[0;34m)\u001b[0m\u001b[0;34m:\u001b[0m\u001b[0;34m\u001b[0m\u001b[0;34m\u001b[0m\u001b[0m\n\u001b[1;32m    175\u001b[0m     \u001b[0;32mwith\u001b[0m \u001b[0mops\u001b[0m\u001b[0;34m.\u001b[0m\u001b[0mcolocate_with\u001b[0m\u001b[0;34m(\u001b[0m\u001b[0mself\u001b[0m\u001b[0;34m.\u001b[0m\u001b[0m_variant_tensor\u001b[0m\u001b[0;34m)\u001b[0m\u001b[0;34m:\u001b[0m\u001b[0;34m\u001b[0m\u001b[0;34m\u001b[0m\u001b[0m\n\u001b[0;32m--> 176\u001b[0;31m       return gen_optional_ops.optional_has_value(\n\u001b[0m\u001b[1;32m    177\u001b[0m           \u001b[0mself\u001b[0m\u001b[0;34m.\u001b[0m\u001b[0m_variant_tensor\u001b[0m\u001b[0;34m,\u001b[0m \u001b[0mname\u001b[0m\u001b[0;34m=\u001b[0m\u001b[0mname\u001b[0m\u001b[0;34m\u001b[0m\u001b[0;34m\u001b[0m\u001b[0m\n\u001b[1;32m    178\u001b[0m       )\n",
      "\u001b[0;32m/usr/local/lib/python3.11/dist-packages/tensorflow/python/ops/gen_optional_ops.py\u001b[0m in \u001b[0;36moptional_has_value\u001b[0;34m(optional, name)\u001b[0m\n\u001b[1;32m    170\u001b[0m   \u001b[0;32mif\u001b[0m \u001b[0mtld\u001b[0m\u001b[0;34m.\u001b[0m\u001b[0mis_eager\u001b[0m\u001b[0;34m:\u001b[0m\u001b[0;34m\u001b[0m\u001b[0;34m\u001b[0m\u001b[0m\n\u001b[1;32m    171\u001b[0m     \u001b[0;32mtry\u001b[0m\u001b[0;34m:\u001b[0m\u001b[0;34m\u001b[0m\u001b[0;34m\u001b[0m\u001b[0m\n\u001b[0;32m--> 172\u001b[0;31m       _result = pywrap_tfe.TFE_Py_FastPathExecute(\n\u001b[0m\u001b[1;32m    173\u001b[0m         _ctx, \"OptionalHasValue\", name, optional)\n\u001b[1;32m    174\u001b[0m       \u001b[0;32mreturn\u001b[0m \u001b[0m_result\u001b[0m\u001b[0;34m\u001b[0m\u001b[0;34m\u001b[0m\u001b[0m\n",
      "\u001b[0;31mKeyboardInterrupt\u001b[0m: "
     ]
    }
   ],
   "source": [
    "history = model.fit(x_train, y_train_encoded, validation_data=(x_test, y_test_encoded), epochs=300, batch_size=4, shuffle=True)\n",
    "\n",
    "loss, accuracy = model.evaluate(x_test, y_test_encoded)\n",
    "print('Test Loss:', loss)\n",
    "print('Test Accuracy:', accuracy)"
   ]
  },
  {
   "cell_type": "code",
   "execution_count": null,
   "metadata": {
    "_cell_guid": "282d337b-b409-4449-a459-fb38650e6ae2",
    "_uuid": "efa1ff91-7a98-4c60-9a28-5d171e48df16",
    "collapsed": false,
    "execution": {
     "iopub.execute_input": "2025-07-01T19:53:33.522766Z",
     "iopub.status.busy": "2025-07-01T19:53:33.522495Z",
     "iopub.status.idle": "2025-07-01T19:53:34.205767Z",
     "shell.execute_reply": "2025-07-01T19:53:34.205129Z",
     "shell.execute_reply.started": "2025-07-01T19:53:33.522746Z"
    },
    "jupyter": {
     "outputs_hidden": false
    },
    "trusted": true
   },
   "outputs": [],
   "source": [
    "history_dict = history.history\n",
    "print(\"Keys in the history dictionary:\", history_dict.keys())\n",
    "\n",
    "# Plot the training and validation loss\n",
    "plt.figure(figsize=(12, 6))\n",
    "plt.plot(history.history['loss'], label='Training Loss')\n",
    "plt.plot(history.history['val_loss'], label='Validation Loss')\n",
    "plt.title('Training and Validation Loss')\n",
    "plt.xlabel('Epoch')\n",
    "plt.ylabel('Loss')\n",
    "plt.legend()\n",
    "plt.grid(True)\n",
    "plt.savefig('loss_plot.png')\n",
    "\n",
    "# Plot the training and validation accuracy\n",
    "plt.figure(figsize=(12, 6))\n",
    "plt.plot(history.history['accuracy'], label='Training Accuracy')\n",
    "plt.plot(history.history['val_accuracy'], label='Validation Accuracy')\n",
    "plt.title('Training and Validation Accuracy')\n",
    "plt.xlabel('Epoch')\n",
    "plt.ylabel('Accuracy')\n",
    "plt.legend()\n",
    "plt.grid(True)\n",
    "plt.savefig('accuracy_plot.png')\n",
    "\n",
    "print(\"Loss and accuracy plots have been saved as 'loss_plot.png' and 'accuracy_plot.png'.\")"
   ]
  },
  {
   "cell_type": "code",
   "execution_count": 9,
   "metadata": {
    "_cell_guid": "d0ca95c4-30ea-4551-8f79-bf8c4f584cd3",
    "_uuid": "6cca320a-990a-4f43-8a74-52c14e806a3e",
    "collapsed": false,
    "execution": {
     "iopub.execute_input": "2025-07-03T11:01:25.427848Z",
     "iopub.status.busy": "2025-07-03T11:01:25.427361Z",
     "iopub.status.idle": "2025-07-03T11:01:32.480528Z",
     "shell.execute_reply": "2025-07-03T11:01:32.479736Z",
     "shell.execute_reply.started": "2025-07-03T11:01:25.427810Z"
    },
    "jupyter": {
     "outputs_hidden": false
    },
    "trusted": true
   },
   "outputs": [
    {
     "name": "stdout",
     "output_type": "stream",
     "text": [
      "\u001b[1m1/1\u001b[0m \u001b[32m━━━━━━━━━━━━━━━━━━━━\u001b[0m\u001b[37m\u001b[0m \u001b[1m6s\u001b[0m 6s/step\n"
     ]
    },
    {
     "data": {
      "text/plain": [
       "<Figure size 1000x800 with 0 Axes>"
      ]
     },
     "metadata": {},
     "output_type": "display_data"
    },
    {
     "data": {
      "image/png": "[encoded data removed]",
      "text/plain": [
       "<Figure size 640x480 with 2 Axes>"
      ]
     },
     "metadata": {},
     "output_type": "display_data"
    },
    {
     "name": "stdout",
     "output_type": "stream",
     "text": [
      "Confusion matrix plot has been saved as 'confusion_matrix.png'.\n"
     ]
    }
   ],
   "source": [
    "from sklearn.metrics import confusion_matrix, ConfusionMatrixDisplay\n",
    "y_pred = model.predict(x_test)\n",
    "\n",
    "# Convert the model's one-hot encoded predictions to integer labels.\n",
    "y_pred_classes = np.argmax(y_pred, axis=1)\n",
    "\n",
    "# y_test_encoded is already a 1D array of integer labels, so use it directly.\n",
    "y_true_classes = y_test_encoded\n",
    "\n",
    "# Calculate the confusion matrix\n",
    "cm = confusion_matrix(y_true_classes, y_pred_classes)\n",
    "\n",
    "class_labels = None # Or provide your list of class names\n",
    "\n",
    "# Plot the confusion matrix\n",
    "plt.figure(figsize=(10, 8))\n",
    "disp = ConfusionMatrixDisplay(confusion_matrix=cm, display_labels=class_labels)\n",
    "disp.plot(cmap=plt.cm.Blues)\n",
    "plt.title('Confusion Matrix')\n",
    "plt.xlabel('Predicted Label')\n",
    "plt.ylabel('True Label')\n",
    "plt.savefig('confusion_matrix.png')\n",
    "plt.show()\n",
    "\n",
    "print(\"Confusion matrix plot has been saved as 'confusion_matrix.png'.\")"
   ]
  },
  {
   "cell_type": "code",
   "execution_count": null,
   "metadata": {
    "_cell_guid": "7f6b4236-0885-4310-8097-4e8cea04b5b2",
    "_uuid": "54eed187-484b-402e-b80d-0766fc0a4da5",
    "collapsed": false,
    "execution": {
     "iopub.execute_input": "2025-07-01T16:36:57.182003Z",
     "iopub.status.busy": "2025-07-01T16:36:57.181458Z",
     "iopub.status.idle": "2025-07-01T16:36:57.189427Z",
     "shell.execute_reply": "2025-07-01T16:36:57.188643Z",
     "shell.execute_reply.started": "2025-07-01T16:36:57.181980Z"
    },
    "jupyter": {
     "outputs_hidden": false
    },
    "trusted": true
   },
   "outputs": [],
   "source": [
    "import keras_tuner as kt\n",
    "\n",
    "def build_model(hp):\n",
    "    model = Sequential()\n",
    "    hp_kernel_size = hp.Int('conv1d_kernel_size', min_value=3, max_value=9, step=1)\n",
    "    \n",
    "    hp_filters = hp.Int('conv1d_filters', min_value=32, max_value=128, step=32)\n",
    "    \n",
    "    hp_pool_size = hp.Int('maxpool1d_pool_size', min_value=2, max_value=4, step=1)\n",
    "    \n",
    "    hp_lstm1_units = hp.Int('lstm1_units', min_value=64, max_value=256, step=64)\n",
    "    hp_lstm2_units = hp.Int('lstm2_units', min_value=32, max_value=128, step=32)\n",
    "\n",
    "    hp_dropout1_rate = hp.Float('dropout1_rate', min_value=0.2, max_value=0.6, step=0.1)\n",
    "    hp_dropout2_rate = hp.Float('dropout2_rate', min_value=0.2, max_value=0.5, step=0.1)\n",
    "\n",
    "    hp_learning_rate = hp.Choice('learning_rate', values=[1e-2, 1e-3, 1e-4])\n",
    "\n",
    "    # --- Model Architecture ---\n",
    "    model.add(TimeDistributed(Reshape((x_train.shape[2], 1)), input_shape=(x_train.shape[1], x_train.shape[2])))\n",
    "    model.add(TimeDistributed(Conv1D(filters=hp_filters, kernel_size=hp_kernel_size, activation='relu')))\n",
    "    model.add(TimeDistributed(MaxPooling1D(pool_size=hp_pool_size)))\n",
    "    model.add(TimeDistributed(Flatten()))\n",
    "    model.add(LSTM(hp_lstm1_units, return_sequences=True))\n",
    "    model.add(Dropout(hp_dropout1_rate))\n",
    "    model.add(LSTM(hp_lstm2_units))\n",
    "    model.add(Dense(64, activation='relu'))\n",
    "    model.add(Dropout(hp_dropout2_rate))\n",
    "    model.add(Dense(num_classes, activation='softmax'))\n",
    "\n",
    "    optimizer = Adam(learning_rate=hp_learning_rate)\n",
    "    model.compile(optimizer=optimizer, loss='sparse_categorical_crossentropy', metrics=['accuracy'])\n",
    "\n",
    "    return model"
   ]
  },
  {
   "cell_type": "code",
   "execution_count": null,
   "metadata": {
    "_cell_guid": "3efbf73d-5ad3-4e41-aae1-d8a64f0035f8",
    "_uuid": "93a3c574-5ebf-4dd6-804a-5dc7a375663f",
    "collapsed": false,
    "execution": {
     "execution_failed": "2025-07-01T16:47:26.729Z",
     "iopub.execute_input": "2025-07-01T16:37:59.721039Z",
     "iopub.status.busy": "2025-07-01T16:37:59.720726Z"
    },
    "jupyter": {
     "outputs_hidden": false
    },
    "trusted": true
   },
   "outputs": [],
   "source": [
    "tuner = kt.Hyperband(\n",
    "    build_model,          # The model-building function\n",
    "    objective='val_accuracy', # The metric to optimize (maximize validation accuracy)\n",
    "    max_epochs=50,        # Max epochs for each trial\n",
    "    factor=3,             # Hyperband reduction factor\n",
    "    hyperband_iterations=5, # Number of times to run the hyperband algorithm\n",
    "    directory='my_dir',   # Directory to store the search results\n",
    "    project_name='cnn_lstm_hyperband_tuning'\n",
    ")\n",
    "\n",
    "print(\"Starting the hyper parameter search...\")\n",
    "tuner.search(x_train, y_train_encoded,\n",
    "                 epochs=100,\n",
    "                 validation_data=(x_test, y_test_encoded),\n",
    "                 batch_size=4)\n",
    "\n",
    "print(\"Hyperparameter search is complete!\")"
   ]
  },
  {
   "cell_type": "code",
   "execution_count": null,
   "metadata": {
    "_cell_guid": "217e04ca-03ca-4e20-bb7a-8c453e97bed9",
    "_uuid": "d95aa1ba-39d9-496f-8c3f-aaa6a2cbd497",
    "collapsed": false,
    "execution": {
     "execution_failed": "2025-06-30T22:02:14.457Z"
    },
    "jupyter": {
     "outputs_hidden": false
    },
    "trusted": true
   },
   "outputs": [],
   "source": [
    "best_hps = tuner.get_best_hyperparameters(num_trials=1)[0]\n",
    "\n",
    "print(f\"\"\"\n",
    "The best hyperparameters found are:\n",
    "- Conv1D Kernel Size: {best_hps.get('conv1d_kernel_size')}\n",
    "- Conv1D Filters: {best_hps.get('conv1d_filters')}\n",
    "- MaxPooling1D Pool Size: {best_hps.get('maxpool1d_pool_size')}\n",
    "- LSTM 1 Units: {best_hps.get('lstm1_units')}\n",
    "- LSTM 2 Units: {best_hps.get('lstm2_units')}\n",
    "- Dropout 1 Rate: {best_hps.get('dropout1_rate')}\n",
    "- Dropout 2 Rate: {best_hps.get('dropout2_rate')}\n",
    "- Learning Rate: {best_hps.get('learning_rate')}\n",
    "\"\"\")\n",
    "\n",
    "best_model = tuner.get_best_models(num_models=1)[0]\n",
    "\n",
    "# Train the best model for a longer period\n",
    "print(\"Training the best model on the full dataset...\")\n",
    "history = best_model.fit(x_train_augmented, y_train_augmented,\n",
    "                          validation_data=(x_test, y_test_encoded),\n",
    "                          epochs=300, # Use more epochs for the final training\n",
    "                          batch_size=2)\n",
    "\n",
    "# Evaluate the final model\n",
    "loss, accuracy = best_model.evaluate(x_test, y_test_encoded)\n",
    "print(f\"Final Test Accuracy: {accuracy*100:.2f}%\")\n",
    "\n",
    "# You can also save the final model\n",
    "best_model.save('best_cnn_lstm_model.h5')"
   ]
  },
  {
   "cell_type": "code",
   "execution_count": 10,
   "metadata": {
    "_cell_guid": "e54bbeaf-0b6e-4be9-9630-74d9d99b0f3a",
    "_uuid": "ae0ce7e9-8d42-4084-a123-7d8ac5c61573",
    "collapsed": true,
    "execution": {
     "iopub.execute_input": "2025-07-03T11:02:13.401768Z",
     "iopub.status.busy": "2025-07-03T11:02:13.401163Z",
     "iopub.status.idle": "2025-07-03T11:02:31.554544Z",
     "shell.execute_reply": "2025-07-03T11:02:31.553711Z",
     "shell.execute_reply.started": "2025-07-03T11:02:13.401747Z"
    },
    "jupyter": {
     "outputs_hidden": true
    },
    "trusted": true
   },
   "outputs": [
    {
     "name": "stdout",
     "output_type": "stream",
     "text": [
      "Saved artifact at 'CNN_LSTM_v1'. The following endpoints are available:\n",
      "\n",
      "* Endpoint 'serve'\n",
      "  args_0 (POSITIONAL_ONLY): TensorSpec(shape=(None, 60, 543, 4), dtype=tf.float32, name='keras_tensor')\n",
      "Output Type:\n",
      "  TensorSpec(shape=(None, 8), dtype=tf.float32, name=None)\n",
      "Captures:\n",
      "  136329386137680: TensorSpec(shape=(), dtype=tf.resource, name=None)\n",
      "  136329386138448: TensorSpec(shape=(), dtype=tf.resource, name=None)\n",
      "  136329386138640: TensorSpec(shape=(), dtype=tf.resource, name=None)\n",
      "  136329386137872: TensorSpec(shape=(), dtype=tf.resource, name=None)\n",
      "  136329386143248: TensorSpec(shape=(), dtype=tf.resource, name=None)\n",
      "  136329386142672: TensorSpec(shape=(), dtype=tf.resource, name=None)\n",
      "  136329386145168: TensorSpec(shape=(), dtype=tf.resource, name=None)\n",
      "  136329386143056: TensorSpec(shape=(), dtype=tf.resource, name=None)\n",
      "  136329386145552: TensorSpec(shape=(), dtype=tf.resource, name=None)\n",
      "  136329386146128: TensorSpec(shape=(), dtype=tf.resource, name=None)\n",
      "  136329386145744: TensorSpec(shape=(), dtype=tf.resource, name=None)\n",
      "  136329386147472: TensorSpec(shape=(), dtype=tf.resource, name=None)\n",
      "  136329386144400: TensorSpec(shape=(), dtype=tf.resource, name=None)\n",
      "  136329386146896: TensorSpec(shape=(), dtype=tf.resource, name=None)\n",
      "  136329385019152: TensorSpec(shape=(), dtype=tf.resource, name=None)\n",
      "  136329385019728: TensorSpec(shape=(), dtype=tf.resource, name=None)\n",
      "  136329385018576: TensorSpec(shape=(), dtype=tf.resource, name=None)\n",
      "  136329385021456: TensorSpec(shape=(), dtype=tf.resource, name=None)\n",
      "  136329385022032: TensorSpec(shape=(), dtype=tf.resource, name=None)\n",
      "  136329385020112: TensorSpec(shape=(), dtype=tf.resource, name=None)\n",
      "  136329385022800: TensorSpec(shape=(), dtype=tf.resource, name=None)\n",
      "  136329385023184: TensorSpec(shape=(), dtype=tf.resource, name=None)\n",
      "  136329385024912: TensorSpec(shape=(), dtype=tf.resource, name=None)\n",
      "  136329385025488: TensorSpec(shape=(), dtype=tf.resource, name=None)\n",
      "  136329385026832: TensorSpec(shape=(), dtype=tf.resource, name=None)\n",
      "  136329385028752: TensorSpec(shape=(), dtype=tf.resource, name=None)\n"
     ]
    }
   ],
   "source": [
    "# Save the model on disk\n",
    "model.save(f\"{model_name}.h5\")\n",
    "model.save(f\"{model_name}.keras\")\n",
    "model.export(f\"{model_name}\")"
   ]
  },
  {
   "cell_type": "code",
   "execution_count": null,
   "metadata": {
    "_cell_guid": "94563611-03e4-4eb8-91a9-80fb43f7d03b",
    "_uuid": "398972be-7555-4301-a3b2-ddd68acf564c",
    "collapsed": false,
    "execution": {
     "execution_failed": "2025-06-30T22:02:14.458Z"
    },
    "jupyter": {
     "outputs_hidden": false
    },
    "trusted": true
   },
   "outputs": [],
   "source": [
    "import zipfile\n",
    "zip = zipfile.ZipFile(f\"{model_name}.zip\", \"w\", zipfile.ZIP_DEFLATED)\n",
    "zip.write(f\"/kaggle/working/{model_name}.h5\")\n",
    "zip.close()"
   ]
  },
  {
   "cell_type": "code",
   "execution_count": null,
   "metadata": {
    "_cell_guid": "2ecd9050-c3da-4445-9b9e-8e448c03a496",
    "_uuid": "d600d2a1-a527-4157-afc3-4d03f7a83e23",
    "collapsed": false,
    "execution": {
     "iopub.execute_input": "2025-06-30T21:53:33.545712Z",
     "iopub.status.busy": "2025-06-30T21:53:33.545266Z",
     "iopub.status.idle": "2025-06-30T21:54:49.806440Z",
     "shell.execute_reply": "2025-06-30T21:54:49.805635Z",
     "shell.execute_reply.started": "2025-06-30T21:53:33.545692Z"
    },
    "jupyter": {
     "outputs_hidden": false
    },
    "trusted": true
   },
   "outputs": [],
   "source": [
    "# Uploading to google drive if file is too big for kaggle direct download\n",
    "from pydrive2.auth import GoogleAuth\n",
    "from pydrive2.drive import GoogleDrive\n",
    "from google.colab import auth\n",
    "from oauth2client.client import GoogleCredentials\n",
    "\n",
    "auth.authenticate_user()\n",
    "gauth = GoogleAuth()\n",
    "gauth.credentials = GoogleCredentials.get_application_default()\n",
    "drive = GoogleDrive(gauth)"
   ]
  },
  {
   "cell_type": "code",
   "execution_count": null,
   "metadata": {
    "_cell_guid": "6bc0ab47-8637-4120-813d-181334509aed",
    "_uuid": "1a509a00-6b95-435c-a007-7ad3b9d739cd",
    "collapsed": false,
    "execution": {
     "execution_failed": "2025-06-30T22:02:14.458Z"
    },
    "jupyter": {
     "outputs_hidden": false
    },
    "trusted": true
   },
   "outputs": [],
   "source": [
    "# Upload the files\n",
    "uploaded = drive.CreateFile({'title': f\"{model_name}_best.zip\", 'mimeType': 'application/zip'})\n",
    "uploaded.SetContentFile(f\"/kaggle/working/{model_name}.h5\")\n",
    "uploaded.Upload()\n",
    "print('Uploaded file with ID {}'.format(uploaded.get('id')))"
   ]
  },
  {
   "cell_type": "code",
   "execution_count": null,
   "metadata": {
    "_cell_guid": "86857d3b-f493-4769-97ec-0fa14ccf9753",
    "_uuid": "774e1941-9d84-465b-8f1d-13e32344c24b",
    "collapsed": false,
    "execution": {
     "iopub.execute_input": "2025-07-01T18:56:40.527236Z",
     "iopub.status.busy": "2025-07-01T18:56:40.526555Z",
     "iopub.status.idle": "2025-07-01T18:56:45.292817Z",
     "shell.execute_reply": "2025-07-01T18:56:45.292130Z",
     "shell.execute_reply.started": "2025-07-01T18:56:40.527210Z"
    },
    "jupyter": {
     "outputs_hidden": false
    },
    "trusted": true
   },
   "outputs": [],
   "source": [
    "!pip install tensorflowjs"
   ]
  },
  {
   "cell_type": "code",
   "execution_count": null,
   "metadata": {
    "_cell_guid": "94072a63-41d2-42c5-b42a-6cb18f841b5a",
    "_uuid": "15b3cc9f-b833-44d1-b42f-dbc3eeb39212",
    "collapsed": false,
    "execution": {
     "iopub.execute_input": "2025-07-01T19:54:25.327845Z",
     "iopub.status.busy": "2025-07-01T19:54:25.327365Z",
     "iopub.status.idle": "2025-07-01T19:54:25.528237Z",
     "shell.execute_reply": "2025-07-01T19:54:25.527378Z",
     "shell.execute_reply.started": "2025-07-01T19:54:25.327821Z"
    },
    "jupyter": {
     "outputs_hidden": false
    },
    "trusted": true
   },
   "outputs": [],
   "source": [
    "!mkdir model_json_2"
   ]
  },
  {
   "cell_type": "code",
   "execution_count": null,
   "metadata": {
    "_cell_guid": "e56f1b88-a1b7-44ff-bc16-e7578f7b18ad",
    "_uuid": "ecba73e2-c616-491a-9be3-083905d31c63",
    "collapsed": false,
    "execution": {
     "iopub.execute_input": "2025-07-01T19:26:26.089811Z",
     "iopub.status.busy": "2025-07-01T19:26:26.089552Z",
     "iopub.status.idle": "2025-07-01T19:26:30.072147Z",
     "shell.execute_reply": "2025-07-01T19:26:30.071176Z",
     "shell.execute_reply.started": "2025-07-01T19:26:26.089789Z"
    },
    "jupyter": {
     "outputs_hidden": false
    },
    "trusted": true
   },
   "outputs": [],
   "source": [
    "!pip install --upgrade tensorflow tensorflowjs"
   ]
  },
  {
   "cell_type": "code",
   "execution_count": null,
   "metadata": {
    "_cell_guid": "cb3a5389-4a7e-4a07-9337-04e2a2459317",
    "_uuid": "9e8ae5ce-001a-4160-b064-4825268799f2",
    "collapsed": false,
    "execution": {
     "iopub.execute_input": "2025-07-01T20:03:27.780784Z",
     "iopub.status.busy": "2025-07-01T20:03:27.780490Z",
     "iopub.status.idle": "2025-07-01T20:03:40.343420Z",
     "shell.execute_reply": "2025-07-01T20:03:40.342620Z",
     "shell.execute_reply.started": "2025-07-01T20:03:27.780757Z"
    },
    "jupyter": {
     "outputs_hidden": false
    },
    "trusted": true
   },
   "outputs": [],
   "source": [
    "!tensorflowjs_converter \\\n",
    "    --input_format=tf_saved_model \\\n",
    "    --output_node_names='MobilenetV1/Predictions/Reshape_1' \\\n",
    "    --saved_model_tags=serve \\\n",
    "    --skip_op_check \\\n",
    "    /kaggle/working/CNN_LSTM_v1 \\\n",
    "    /kaggle/working/model_json_2"
   ]
  }
 ],
 "metadata": {
  "kaggle": {
   "accelerator": "nvidiaTeslaT4",
   "dataSources": [
    {
     "datasetId": 3852662,
     "sourceId": 6677809,
     "sourceType": "datasetVersion"
    },
    {
     "datasetId": 7774989,
     "sourceId": 12333861,
     "sourceType": "datasetVersion"
    },
    {
     "datasetId": 7793417,
     "sourceId": 12361110,
     "sourceType": "datasetVersion"
    }
   ],
   "dockerImageVersionId": 31040,
   "isGpuEnabled": true,
   "isInternetEnabled": true,
   "language": "python",
   "sourceType": "notebook"
  },
  "kernelspec": {
   "display_name": "Python 3",
   "language": "python",
   "name": "python3"
  },
  "language_info": {
   "codemirror_mode": {
    "name": "ipython",
    "version": 3
   },
   "file_extension": ".py",
   "mimetype": "text/x-python",
   "name": "python",
   "nbconvert_exporter": "python",
   "pygments_lexer": "ipython3",
   "version": "3.11.11"
  }
 },
 "nbformat": 4,
 "nbformat_minor": 4
}
